{
  "nbformat": 4,
  "nbformat_minor": 0,
  "metadata": {
    "colab": {
      "name": "Python_basic_Assignment12.ipynb",
      "provenance": [],
      "collapsed_sections": []
    },
    "kernelspec": {
      "name": "python3",
      "display_name": "Python 3"
    },
    "language_info": {
      "name": "python"
    }
  },
  "cells": [
    {
      "cell_type": "markdown",
      "source": [
        "Question 1.In what modes should the PdfFileReader() and PdfFileWriter() File objects will be opened?"
      ],
      "metadata": {
        "id": "re7TiPbWQyUU"
      }
    },
    {
      "cell_type": "markdown",
      "source": [
        "**Answer**\n",
        "PdfFileReader() and PdfFileWriter() objects will be opened in binary mode"
      ],
      "metadata": {
        "id": "IqFBZUz-Q41p"
      }
    },
    {
      "cell_type": "markdown",
      "source": [
        "Question 2.From a PdfFileReader object, how do you get a Page object for page 5?"
      ],
      "metadata": {
        "id": "_DwIjGxgQ_nD"
      }
    },
    {
      "cell_type": "markdown",
      "source": [
        "**Answer**\n",
        "\n",
        "getPage(5) will provide page object for page 5\n",
        "\n",
        "import PyPDF2\n",
        "\n",
        "p = open('example.pdf', 'rb')\n",
        "\n",
        "pdfReader = PyPDF2.PdfFileReader(p)\n",
        "\n",
        "pagepageObj = pdfReader.getPage(0)\n"
      ],
      "metadata": {
        "id": "BNxz9VzHRGUd"
      }
    },
    {
      "cell_type": "markdown",
      "source": [
        "Question 3.What PdfFileReader variable stores the number of pages in the PDF document?"
      ],
      "metadata": {
        "id": "SRzW27MLSAef"
      }
    },
    {
      "cell_type": "markdown",
      "source": [
        "**Answer**\n",
        "\n",
        "pdfFileReader.numPages stores the number of pages in the PDF document"
      ],
      "metadata": {
        "id": "BKECRLK6SFo0"
      }
    },
    {
      "cell_type": "markdown",
      "source": [
        "Question 4.If a PdfFileReader object’s PDF is encrypted with the password swordfish, what must you do\n",
        "before you can obtain Page objects from it?"
      ],
      "metadata": {
        "id": "rt7afvPVSVHQ"
      }
    },
    {
      "cell_type": "markdown",
      "source": [
        "**Answer**\n",
        "\n",
        "we need to decrypt the file using decrypt method\n",
        "\n",
        "import PyPDF2\n",
        "\n",
        "p = PyPDF2.PdfFileReader(\"example.pdf\")\n",
        "\n",
        "p.decrypt(\"swordfish\")"
      ],
      "metadata": {
        "id": "N6F4nBqtSjER"
      }
    },
    {
      "cell_type": "markdown",
      "source": [
        "Question 5. What methods do you use to rotate a page?"
      ],
      "metadata": {
        "id": "jIhaBb17TTQd"
      }
    },
    {
      "cell_type": "markdown",
      "source": [
        "**Answer**\n",
        "\n",
        "rotateClockwise(degreestorotate) and rotateCounterClockwise(degreestorotate) are the methods used to rotate a page"
      ],
      "metadata": {
        "id": "VHnaoM0gT04X"
      }
    },
    {
      "cell_type": "markdown",
      "source": [
        "Question 6.What is the difference between a Run object and a Paragraph object?"
      ],
      "metadata": {
        "id": "PMNlWmNKUstL"
      }
    },
    {
      "cell_type": "markdown",
      "source": [
        "**Answer**\n",
        "\n",
        "Run object contain group of charactes with same formatting. A single sentence may contain many run objects.\n",
        "\n",
        "A paragraph object contain many run objects"
      ],
      "metadata": {
        "id": "Ujqff7eKU-7S"
      }
    },
    {
      "cell_type": "markdown",
      "source": [
        "Question 7.How do you obtain a list of Paragraph objects for a Document object that’s stored in a variable\n",
        "named doc?"
      ],
      "metadata": {
        "id": "1pP4LhCNYEk6"
      }
    },
    {
      "cell_type": "markdown",
      "source": [
        "**Answer**\n",
        "\n",
        "len(doc.paragraphs) provide the number of paragraph objects.\n",
        "Each paragraph can be accessed using the index doc.paragraphs[0].text"
      ],
      "metadata": {
        "id": "xtpV1o0uYkmf"
      }
    },
    {
      "cell_type": "markdown",
      "source": [
        "Question 8.What type of object has bold, underline, italic, strike, and outline variables?"
      ],
      "metadata": {
        "id": "ZuH50dxCZAqo"
      }
    },
    {
      "cell_type": "markdown",
      "source": [
        "**Answer**\n",
        "\n",
        "Run objects contain style attributes such as bold, underline,italic,strike and outline\n",
        "\n",
        "doc.paragraphs[0].runs[0].underline = True"
      ],
      "metadata": {
        "id": "pe3SDa-1ZGKp"
      }
    },
    {
      "cell_type": "markdown",
      "source": [
        "Question 9.What is the difference between False, True, and None for the bold variable?"
      ],
      "metadata": {
        "id": "wT-q2eUyZqID"
      }
    },
    {
      "cell_type": "markdown",
      "source": [
        "**Answer**\n",
        "\n",
        "True  - Bold text\n",
        "\n",
        "False - No bold text\n",
        "\n",
        "None - The run will inherit the bold value of its containing paragraph . None removes directly applied bold value"
      ],
      "metadata": {
        "id": "7tLglEhwZvAX"
      }
    },
    {
      "cell_type": "markdown",
      "source": [
        "Question 10.How do you create a Document object for a new Word document?"
      ],
      "metadata": {
        "id": "aDLsVeldaERw"
      }
    },
    {
      "cell_type": "markdown",
      "source": [
        "**Answer**\n",
        "\n",
        "import docx\n",
        "\n",
        "doc = docx.Document()"
      ],
      "metadata": {
        "id": "gQqcbjiKaJ5g"
      }
    },
    {
      "cell_type": "markdown",
      "source": [
        "Question 11.How do you add a paragraph with the text &#39;Hello, there!&#39; to a Document object stored in a\n",
        "variable named doc?"
      ],
      "metadata": {
        "id": "P7gqBWmOaXBK"
      }
    },
    {
      "cell_type": "markdown",
      "source": [
        "**Answer**\n",
        "\n",
        "import docx\n",
        "\n",
        "doc = docx.Document()\n",
        "\n",
        "doc.add_paragraph('Hello, there!')"
      ],
      "metadata": {
        "id": "f_SLFbXJaf8S"
      }
    },
    {
      "cell_type": "markdown",
      "source": [
        "Question 12.What integers represent the levels of headings available in Word documents?"
      ],
      "metadata": {
        "id": "eQ5yxMogavVB"
      }
    },
    {
      "cell_type": "markdown",
      "source": [
        "**Answer**\n",
        "\n",
        "0 to 4 are the levels of headings available\n",
        "\n",
        "0 represents title style\n",
        "\n",
        "1 represents the main heading\n",
        "\n",
        "4 represents the lowest sub heading"
      ],
      "metadata": {
        "id": "uqyf-6eLa0Rq"
      }
    }
  ]
}