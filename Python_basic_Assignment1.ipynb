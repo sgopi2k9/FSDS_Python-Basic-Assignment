{
  "nbformat": 4,
  "nbformat_minor": 0,
  "metadata": {
    "colab": {
      "name": "Python basic Assignment1.ipynb",
      "provenance": []
    },
    "kernelspec": {
      "name": "python3",
      "display_name": "Python 3"
    },
    "language_info": {
      "name": "python"
    }
  },
  "cells": [
    {
      "cell_type": "markdown",
      "metadata": {
        "id": "zaBo0nNkClA-"
      },
      "source": [
        "Question\n",
        "1. In the below elements which of them are values or an expression? eg:- values can be\n",
        "integer or string and expressions will be mathematical operators.\n",
        "*\n",
        "&#39;hello&#39;\n",
        "-87.8\n",
        "-\n",
        "/\n",
        "+\n",
        "6"
      ]
    },
    {
      "cell_type": "markdown",
      "metadata": {
        "id": "wo_Ik8_CC6I5"
      },
      "source": [
        "Answer\n",
        "* - / + are Mathematical operators\n",
        "'hello', -87.8, 6 are  values"
      ]
    },
    {
      "cell_type": "markdown",
      "metadata": {
        "id": "bN5Bu_i8DJ2m"
      },
      "source": [
        "Question\n",
        "2. What is the difference between string and variable?"
      ]
    },
    {
      "cell_type": "markdown",
      "metadata": {
        "id": "fPN4jUuRDP4C"
      },
      "source": [
        "Answer\n",
        "Variable is a memory space allocated in memory to store values for data types such as integer, boolean, float and string values.\n",
        "String is data type of a variable. "
      ]
    },
    {
      "cell_type": "markdown",
      "metadata": {
        "id": "z8lzxoUmDsfc"
      },
      "source": [
        "Question\n",
        "3. Describe three different data types."
      ]
    },
    {
      "cell_type": "markdown",
      "metadata": {
        "id": "3GhQ9ficDyKf"
      },
      "source": [
        "Integer - Integer data type is represented by int class and is used to store negative and postitive numeric values without any decimal.\n",
        "String - String data type is used to store either a single character or group of characters and can be represented using single or double quotes using str class.\n",
        "Boolean - Bollean data type is represented by True or False values."
      ]
    },
    {
      "cell_type": "markdown",
      "metadata": {
        "id": "j3rMv0MiE9kS"
      },
      "source": [
        "Question\n",
        "4. What is an expression made up of? What do all expressions do?"
      ]
    },
    {
      "cell_type": "markdown",
      "metadata": {
        "id": "yu1pK0MoFvBw"
      },
      "source": [
        "Answer\n",
        "Expression consists of operators,variables or values. The expression is evaluated as per order of precendence of operators and finally desired value is producted as an output.  "
      ]
    },
    {
      "cell_type": "markdown",
      "metadata": {
        "id": "QYFTDm2iGWDv"
      },
      "source": [
        "Question \n",
        "5. This assignment statements, like spam = 10. What is the difference between an\n",
        "expression and a statement?"
      ]
    },
    {
      "cell_type": "markdown",
      "metadata": {
        "id": "thhNIYjFGcnF"
      },
      "source": [
        "Answer\n",
        "Expression evaluates and finally returns a value\n",
        "Statement does not return any value"
      ]
    },
    {
      "cell_type": "markdown",
      "metadata": {
        "id": "otVccy79HBhE"
      },
      "source": [
        "Question\n",
        "6. After running the following code, what does the variable bacon contain?\n",
        "bacon = 22\n",
        "bacon + 1"
      ]
    },
    {
      "cell_type": "markdown",
      "metadata": {
        "id": "B8Jgbkg-HZL0"
      },
      "source": [
        "Answer\n",
        "22"
      ]
    },
    {
      "cell_type": "markdown",
      "metadata": {
        "id": "gW4o_pfOIVD_"
      },
      "source": [
        "Question\n",
        "7. What should the values of the following two terms be?\n",
        "'spam'+'spamspam'\n",
        "'spam'*3"
      ]
    },
    {
      "cell_type": "markdown",
      "metadata": {
        "id": "pjElMPu7Il3p"
      },
      "source": [
        "Answer\n",
        "spamspamspam\n",
        "spamspamspam"
      ]
    },
    {
      "cell_type": "markdown",
      "metadata": {
        "id": "dU8oi4iPI6EJ"
      },
      "source": [
        "Question\n",
        "8. Why is eggs a valid variable name while 100 is invalid?"
      ]
    },
    {
      "cell_type": "markdown",
      "metadata": {
        "id": "MB6n3nXuI_Sq"
      },
      "source": [
        "Answer\n",
        "Inn Python valid variable must start with alphabets or underscore so eggs is a valid variable and 100 is invallid variable. "
      ]
    },
    {
      "cell_type": "markdown",
      "metadata": {
        "id": "BBaR2KgGJwe1"
      },
      "source": [
        "Question\n",
        "9. What three functions can be used to get the integer, floating-point number, or string\n",
        "version of a value?"
      ]
    },
    {
      "cell_type": "markdown",
      "metadata": {
        "id": "howk28SAKIBs"
      },
      "source": [
        "Answer\n",
        "int('1234') -> int() function returns integer version of value provided\n",
        "str(1234)  -> str() functions returns string version of value provided\n",
        "float('123.1')  -> float() function reurns decimal version of value provided"
      ]
    },
    {
      "cell_type": "markdown",
      "metadata": {
        "id": "mo-Xfxo-LUdB"
      },
      "source": [
        "Question\n",
        "10. Why does this expression cause an error? How can you fix it?\n",
        "&#39;I have eaten &#39; + 99 + &#39; burritos.&#39;"
      ]
    },
    {
      "cell_type": "markdown",
      "metadata": {
        "id": "hWRN2rWlLc30"
      },
      "source": [
        "The expression contains integer value . In python we need to cast integer to string before printing or concatenating with string."
      ]
    }
  ]
}