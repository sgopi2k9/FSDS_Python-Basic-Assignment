{
  "nbformat": 4,
  "nbformat_minor": 0,
  "metadata": {
    "colab": {
      "name": "Python_basic_Assignment9.ipynb",
      "provenance": []
    },
    "kernelspec": {
      "name": "python3",
      "display_name": "Python 3"
    },
    "language_info": {
      "name": "python"
    }
  },
  "cells": [
    {
      "cell_type": "markdown",
      "source": [
        "Question 1.To what does a relative path refer?"
      ],
      "metadata": {
        "id": "z_v8bBTjyZJ4"
      }
    },
    {
      "cell_type": "markdown",
      "source": [
        "**Answer**\n",
        "Relative path refers to path either from the given directory or from the current working directory"
      ],
      "metadata": {
        "id": "vhXNXYOzybyD"
      }
    },
    {
      "cell_type": "markdown",
      "source": [
        "Question 2.What does an absolute path start with your operating system?"
      ],
      "metadata": {
        "id": "v9QD4U35yrKN"
      }
    },
    {
      "cell_type": "markdown",
      "source": [
        "**Answer**\n",
        "Absolute path starts with drive name follwed by the location. For example C:\\Documents"
      ],
      "metadata": {
        "id": "C0p9MerjyvL9"
      }
    },
    {
      "cell_type": "markdown",
      "source": [
        "Question 3.What do the functions os.getcwd() and os.chdir() do?"
      ],
      "metadata": {
        "id": "PSM-Hq8Qy3cc"
      }
    },
    {
      "cell_type": "markdown",
      "source": [
        "**Answer**\n",
        "\n",
        "os.getcwd() - This function returns location of the current working directory. \n",
        "\n",
        "os.chdir() - This function takes location as arguement and changes the working path to the directory mentioned"
      ],
      "metadata": {
        "id": "pSwqSFW7y7Kr"
      }
    },
    {
      "cell_type": "markdown",
      "source": [
        "Question 4.What are the . and .. folders?"
      ],
      "metadata": {
        "id": "Y9rgtPJbzRTn"
      }
    },
    {
      "cell_type": "markdown",
      "source": [
        "**Answer**\n",
        "\n",
        "A single dot means the file or packages is referenced in the same directory\n",
        "A double dot refers to the parent directory of the current location."
      ],
      "metadata": {
        "id": "lmQfRCoMzUwU"
      }
    },
    {
      "cell_type": "markdown",
      "source": [
        "Question 5.In C:\\bacon\\eggs\\spam.txt, which part is the dir name, and which part is the base name?"
      ],
      "metadata": {
        "id": "u1POKpQBzuYH"
      }
    },
    {
      "cell_type": "markdown",
      "source": [
        "**Answer**\n",
        "\n",
        "eggs is the directory name\n",
        "C:\\bacon is the base name"
      ],
      "metadata": {
        "id": "z9jT43Hgzyt_"
      }
    },
    {
      "cell_type": "markdown",
      "source": [
        "Question 6.What are the three “mode” arguments that can be passed to the open() function?"
      ],
      "metadata": {
        "id": "Mz9fjQK2z5g_"
      }
    },
    {
      "cell_type": "markdown",
      "source": [
        "**Answer**\n",
        "\n",
        "Following arguements can be passed in open function\n",
        "r - read only\n",
        "w - write only\n",
        "a - append mode"
      ],
      "metadata": {
        "id": "ksfZKnFlz9Ye"
      }
    },
    {
      "cell_type": "markdown",
      "source": [
        "Question 7.What happens if an existing file is opened in write mode?"
      ],
      "metadata": {
        "id": "nr3hEK7J0M85"
      }
    },
    {
      "cell_type": "markdown",
      "source": [
        "**Answer**\n",
        "\n",
        "When existing file is opened in write mode, any existing data is erased and new data is written to file"
      ],
      "metadata": {
        "id": "xq1d30yE0RNL"
      }
    },
    {
      "cell_type": "markdown",
      "source": [
        "Question 8.How do you tell the difference between read() and readlines()?"
      ],
      "metadata": {
        "id": "Jzee19b602hb"
      }
    },
    {
      "cell_type": "markdown",
      "source": [
        "**Answer**\n",
        "\n",
        "read() methdod reads the entire file as string.\n",
        "readlines() method reads all the lines in the document and we can iterate each line one by one. \\n is appended at end of each line"
      ],
      "metadata": {
        "id": "Iv28ETYY06h-"
      }
    },
    {
      "cell_type": "markdown",
      "source": [
        "Question 9.What data structure does a shelf value resemble?"
      ],
      "metadata": {
        "id": "hw7whphS1t7I"
      }
    },
    {
      "cell_type": "markdown",
      "source": [
        "**Answer**\n",
        "\n",
        "A shelf value resembles to python dictionary it has keys and values"
      ],
      "metadata": {
        "id": "1uAUdChL1x4D"
      }
    }
  ]
}