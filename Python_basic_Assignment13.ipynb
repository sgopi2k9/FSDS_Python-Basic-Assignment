{
  "nbformat": 4,
  "nbformat_minor": 0,
  "metadata": {
    "colab": {
      "name": "Python_basic_Assignment13.ipynb",
      "provenance": []
    },
    "kernelspec": {
      "name": "python3",
      "display_name": "Python 3"
    },
    "language_info": {
      "name": "python"
    }
  },
  "cells": [
    {
      "cell_type": "markdown",
      "source": [
        "1. What advantages do Excel spreadsheets have over CSV spreadsheets?"
      ],
      "metadata": {
        "id": "s9xqGoqcAGyt"
      }
    },
    {
      "cell_type": "markdown",
      "source": [
        "**Answer**\n",
        "\n",
        "The Advantages of Excel over CSV are:\n",
        "\n",
        "Excel (XLS and XLSX) file formats are better for storing and analysing complex data.\n",
        "An Excel not only stores data but can also do operations on the data using macros, formulas etc\n",
        "CSV files are plain-text files, Does not contain formatting, formulas, macros, etc. It is also known as flat files"
      ],
      "metadata": {
        "id": "ojWGqbvJAJCb"
      }
    },
    {
      "cell_type": "markdown",
      "source": [
        "2.What do you pass to csv.reader() and csv.writer() to create reader and writer objects?\n"
      ],
      "metadata": {
        "id": "6dh8Ops-AJOF"
      }
    },
    {
      "cell_type": "markdown",
      "source": [
        "**Answer**\n",
        "\n",
        "we need to pass file arguement to csv.reader() and csv.writer() methods."
      ],
      "metadata": {
        "id": "0Ko7qQYQALPo"
      }
    },
    {
      "cell_type": "markdown",
      "source": [
        "3. What modes do File objects for reader and writer objects need to be opened in?\n"
      ],
      "metadata": {
        "id": "JrBnSL2MALbf"
      }
    },
    {
      "cell_type": "markdown",
      "source": [
        "**Answer**\n",
        "\n",
        "For csv.reader(iterable_file_object), the file objects needed to be opened in read mode mode='r' Whereas for csv.writer(iterable_file_object) the file objects needed to be opened in write mode mode='w'"
      ],
      "metadata": {
        "id": "-oWsYQ0LANas"
      }
    },
    {
      "cell_type": "markdown",
      "source": [
        "4. What method takes a list argument and writes it to a CSV file?\n"
      ],
      "metadata": {
        "id": "wgppnucNANmn"
      }
    },
    {
      "cell_type": "markdown",
      "source": [
        "**Answer**\n",
        "\n",
        "import csv\n",
        "\n",
        "w = csv.writer(filename)\n",
        "\n",
        "w.writerow(list_data) and csv.writerows(list_data) these two methods take list arguements and writes to csv file."
      ],
      "metadata": {
        "id": "7ttanUyVARiW"
      }
    },
    {
      "cell_type": "markdown",
      "source": [
        "5. What do the keyword arguments delimiter and line terminator do?"
      ],
      "metadata": {
        "id": "oC2QKmpsASDC"
      }
    },
    {
      "cell_type": "markdown",
      "source": [
        ""
      ],
      "metadata": {
        "id": "1Ff9t6xfAUqR"
      }
    },
    {
      "cell_type": "markdown",
      "source": [
        "6. What function takes a string of JSON data and returns a Python data structure?"
      ],
      "metadata": {
        "id": "w-HZDSG-AU52"
      }
    },
    {
      "cell_type": "markdown",
      "source": [
        "**Answer**\n",
        "\n",
        "import json\n",
        "\n",
        "json.load(json file) -> This function takes json as parameter and returns python dictionary"
      ],
      "metadata": {
        "id": "ctT7IUlUAXvJ"
      }
    },
    {
      "cell_type": "markdown",
      "source": [
        "7. What function takes a Python data structure and returns a string of JSON data?\n"
      ],
      "metadata": {
        "id": "kDto4Tx0AX9N"
      }
    },
    {
      "cell_type": "markdown",
      "source": [
        "**Answer**\n",
        "\n",
        "json.dumps(dict, indent) and json.dump(dict, file_pointer) are the two functions which convertes python dictionary to a string of json data"
      ],
      "metadata": {
        "id": "agdRoWCDAbe_"
      }
    }
  ]
}