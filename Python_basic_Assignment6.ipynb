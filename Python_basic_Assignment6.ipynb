{
  "nbformat": 4,
  "nbformat_minor": 0,
  "metadata": {
    "colab": {
      "name": "Python_basic_Assignment6.ipynb",
      "provenance": [],
      "collapsed_sections": []
    },
    "kernelspec": {
      "name": "python3",
      "display_name": "Python 3"
    },
    "language_info": {
      "name": "python"
    }
  },
  "cells": [
    {
      "cell_type": "markdown",
      "source": [
        "Question 1.What are escape characters, and how do you use them?"
      ],
      "metadata": {
        "id": "6Ir9FGbmBmuF"
      }
    },
    {
      "cell_type": "markdown",
      "source": [
        "**Answer** To insert characters in string that are not allowed escape characters are used to represent them . We can use escape characters with \\"
      ],
      "metadata": {
        "id": "quq4-IfvCdr2"
      }
    },
    {
      "cell_type": "markdown",
      "source": [
        "Question 2.What do the escape characters n and t stand for?\n",
        "\n",
        "\n",
        "\n",
        "\n",
        "\n",
        "\n",
        "\n",
        "\n"
      ],
      "metadata": {
        "id": "ABdMH_zDCeKe"
      }
    },
    {
      "cell_type": "markdown",
      "source": [
        "**Answer** n stands for new line and t stands for new tab"
      ],
      "metadata": {
        "id": "t5QMY45JCwBu"
      }
    },
    {
      "cell_type": "markdown",
      "source": [
        "Question 3.What is the way to include backslash characters in a string?"
      ],
      "metadata": {
        "id": "fxle-V98CweV"
      }
    },
    {
      "cell_type": "markdown",
      "source": [
        "**Answer** We can include backslash in string by using double backslash\n",
        "For example \"\\\\hello\""
      ],
      "metadata": {
        "id": "WWxxj7fEC0Cq"
      }
    },
    {
      "cell_type": "markdown",
      "source": [
        "Question 4.The string &quot;Howl&#39;s Moving Castle&quot; is a correct value. Why isn&#39;t the single quote character in the\n",
        "word Howl&#39;s not escaped a problem?"
      ],
      "metadata": {
        "id": "0Gibe6rfC0MC"
      }
    },
    {
      "cell_type": "markdown",
      "source": [
        "**Answer** In python single quote is also used to represent strings. If we use double quotes \"Howl's Moving Castle\" then python does not throw any error. However if we use single quotes 'Howl\\'s Moving Castle' then we need to use escape sequence to avoid error.\n"
      ],
      "metadata": {
        "id": "js5uVkHgC6W_"
      }
    },
    {
      "cell_type": "markdown",
      "source": [
        "Question 5.How do you write a string of newlines if you don&#39;t want to use the n character?"
      ],
      "metadata": {
        "id": "cyXyFN2jC6nb"
      }
    },
    {
      "cell_type": "markdown",
      "source": [
        "**Answer** we can use \\r and create string of new lines."
      ],
      "metadata": {
        "id": "WlGgKhH6DBlR"
      }
    },
    {
      "cell_type": "markdown",
      "source": [
        "Question 6.What are the values of the given expressions?\n",
        "\n",
        "&#39;Hello, world!&#39;[1]\n",
        "\n",
        "&#39;Hello, world!&#39;[0:5]\n",
        "\n",
        "&#39;Hello, world!&#39;[:5]\n",
        "\n",
        "&#39;Hello, world!&#39;[3:]"
      ],
      "metadata": {
        "id": "FcjQMuSJDB3j"
      }
    },
    {
      "cell_type": "markdown",
      "source": [
        "**Answer** \n",
        "\n",
        "e\n",
        "\n",
        "Hello\n",
        "\n",
        "Hello\n",
        "\n",
        "lo, world!"
      ],
      "metadata": {
        "id": "hzCAEqYzDFgL"
      }
    },
    {
      "cell_type": "markdown",
      "source": [
        "Question 7.What are the values of the following expressions?\n",
        "\n",
        "&#39;Hello&#39;.upper()\n",
        "\n",
        "&#39;Hello&#39;.upper().isupper()\n",
        "\n",
        "&#39;Hello&#39;.upper().lower()"
      ],
      "metadata": {
        "id": "KutD1XTfDFxK"
      }
    },
    {
      "cell_type": "markdown",
      "source": [
        "**Answer** \n",
        "\n",
        "HELLO \n",
        "\n",
        "True\n",
        "\n",
        "hello"
      ],
      "metadata": {
        "id": "5Z1D2vdVDJvD"
      }
    },
    {
      "cell_type": "markdown",
      "source": [
        "Question 8.What are the values of the following expressions?\n",
        "\n",
        "&#39;Remember, remember, the fifth of July.&#39;.split()\n",
        "\n",
        "&#39;-&#39;.join(&#39;There can only one.&#39;.split())"
      ],
      "metadata": {
        "id": "Iuy7x94gDJ_A"
      }
    },
    {
      "cell_type": "markdown",
      "source": [
        "**Answer** \n",
        "\n",
        "['Remember,', 'remember,', 'the', 'fifth', 'of', 'July']\n",
        "\n",
        "'There-can-only-one.'\n"
      ],
      "metadata": {
        "id": "s52_tlq_DOAb"
      }
    },
    {
      "cell_type": "markdown",
      "source": [
        "Question 9.What are the methods for right-justifying, left-justifying, and centering a string?"
      ],
      "metadata": {
        "id": "CCDeZd9nDOOD"
      }
    },
    {
      "cell_type": "markdown",
      "source": [
        "**Answer**\n",
        "\n",
        "Right justify - rjust(len,fillchar)\n",
        "\n",
        "Left justify - ljust(len,fillchar)\n",
        "\n",
        "center - center(len,fillchar)\n",
        "\n",
        "len - width of the string to expand it\n",
        "\n",
        "fillchar - The character to fill in the remaining space"
      ],
      "metadata": {
        "id": "tLyf5CJMDRuk"
      }
    },
    {
      "cell_type": "markdown",
      "source": [
        "Question 10.What is the best way to remove whitespace characters from the start or end?"
      ],
      "metadata": {
        "id": "KSRninN4DR82"
      }
    },
    {
      "cell_type": "markdown",
      "source": [
        "**Answer** we need to use strip() method to remove whitespace characters from start and end\n",
        "\n",
        "Example str = \"  Hello \"\n",
        "print(str.strip())"
      ],
      "metadata": {
        "id": "AuYdaU48DWZC"
      }
    }
  ]
}