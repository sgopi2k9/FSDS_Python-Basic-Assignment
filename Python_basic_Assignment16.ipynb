{
  "nbformat": 4,
  "nbformat_minor": 0,
  "metadata": {
    "colab": {
      "name": "Python_basic_Assignment16.ipynb",
      "provenance": []
    },
    "kernelspec": {
      "name": "python3",
      "display_name": "Python 3"
    },
    "language_info": {
      "name": "python"
    }
  },
  "cells": [
    {
      "cell_type": "markdown",
      "source": [
        "1.Create a list called years_list, starting with the year of your birth, and each year thereafter until the year of your fifth birthday. For example, if you were born in 1980. the list would be years_list = [1980, 1981, 1982, 1983, 1984, 1985]."
      ],
      "metadata": {
        "id": "yDG0zOcmGrlZ"
      }
    },
    {
      "cell_type": "code",
      "source": [
        "years_list=[1985,1986,1987,1988,1989,1990]"
      ],
      "metadata": {
        "id": "VheSEgCXGuhI"
      },
      "execution_count": null,
      "outputs": []
    },
    {
      "cell_type": "markdown",
      "source": [
        "2.In which year in years_list was your third birthday? Remember, you were 0 years of age for your first year."
      ],
      "metadata": {
        "id": "dKNgPyJoG5Pe"
      }
    },
    {
      "cell_type": "markdown",
      "source": [
        "**Answer**\n",
        "\n",
        "1988"
      ],
      "metadata": {
        "id": "e7LCfcmIG-5t"
      }
    },
    {
      "cell_type": "markdown",
      "source": [
        "3.In the years list, which year were you the oldest?"
      ],
      "metadata": {
        "id": "Ew0nd60fHBLj"
      }
    },
    {
      "cell_type": "markdown",
      "source": [
        "**Answer**\n",
        "\n",
        "1990"
      ],
      "metadata": {
        "id": "nXdRnINRHD9q"
      }
    },
    {
      "cell_type": "markdown",
      "source": [
        "4.Make a list called things with these three strings as elements: \"mozzarella\", \"cinderella\", \"salmonella\".\n"
      ],
      "metadata": {
        "id": "CZhV4BcbHGFW"
      }
    },
    {
      "cell_type": "code",
      "source": [
        "list_strings = [\"mozzarella\",\"cinderella\",\"salmonella\"]"
      ],
      "metadata": {
        "id": "FkDj0VlxHMxf"
      },
      "execution_count": 1,
      "outputs": []
    },
    {
      "cell_type": "markdown",
      "source": [
        "5.Capitalize the element in things that refers to a person and then print the list. Did it change the element in the list?"
      ],
      "metadata": {
        "id": "GH4YoKD-HYlE"
      }
    },
    {
      "cell_type": "code",
      "source": [
        "for i in list_strings:\n",
        "  if i == \"cinderella\":\n",
        "    print(i.capitalize())\n",
        "print(list_strings)"
      ],
      "metadata": {
        "colab": {
          "base_uri": "https://localhost:8080/"
        },
        "id": "HmzoYEu4HaB_",
        "outputId": "e32866cd-c76b-41ff-df1b-8e0e9345fe4f"
      },
      "execution_count": 4,
      "outputs": [
        {
          "output_type": "stream",
          "name": "stdout",
          "text": [
            "Cinderella\n",
            "['mozzarella', 'cinderella', 'salmonella']\n"
          ]
        }
      ]
    },
    {
      "cell_type": "markdown",
      "source": [
        "No elements in list are not changed"
      ],
      "metadata": {
        "id": "C5WyiEBcHo5c"
      }
    },
    {
      "cell_type": "markdown",
      "source": [
        "6.Make a surprise list with the elements \"Groucho,\" \"Chico,\" and \"Harpo.\""
      ],
      "metadata": {
        "id": "RDErbOh8HsPh"
      }
    },
    {
      "cell_type": "code",
      "source": [
        "suprise = [\"Groucho\",\"Chico\",\"Harpo\"]"
      ],
      "metadata": {
        "id": "CS3QT8pYHzdF"
      },
      "execution_count": 5,
      "outputs": []
    },
    {
      "cell_type": "markdown",
      "source": [
        "7.Lowercase the last element of the surprise list, reverse it, and then capitalize it.\n"
      ],
      "metadata": {
        "id": "igRXuZ96H6Ps"
      }
    },
    {
      "cell_type": "code",
      "source": [
        "print(suprise[-1].upper())\n",
        "print(suprise[-1][::-1])\n",
        "print(suprise[-1].capitalize())"
      ],
      "metadata": {
        "colab": {
          "base_uri": "https://localhost:8080/"
        },
        "id": "D39OIorhIErF",
        "outputId": "c4be578e-3781-446f-9868-0b3aad050e04"
      },
      "execution_count": 7,
      "outputs": [
        {
          "output_type": "stream",
          "name": "stdout",
          "text": [
            "HARPO\n",
            "opraH\n",
            "Harpo\n"
          ]
        }
      ]
    },
    {
      "cell_type": "markdown",
      "source": [
        "8.Make an English-to-French dictionary called e2f and print it. Here are your starter words: dog is chien, cat is chat, and walrus is morse."
      ],
      "metadata": {
        "id": "J9mCFrhzITdN"
      }
    },
    {
      "cell_type": "code",
      "source": [
        "e2f = {\n",
        "    \"dog\":\"chien\",\n",
        "    \"cat\":\"chat\",\n",
        "    \"walrus\":\"morse\"\n",
        "}\n",
        "print(e2f)"
      ],
      "metadata": {
        "colab": {
          "base_uri": "https://localhost:8080/"
        },
        "id": "6qRtPn08IXGb",
        "outputId": "ef7c8950-2704-4eb3-f472-57cd1f2798c3"
      },
      "execution_count": 8,
      "outputs": [
        {
          "output_type": "stream",
          "name": "stdout",
          "text": [
            "{'dog': 'chien', 'cat': 'chat', 'walrus': 'morse'}\n"
          ]
        }
      ]
    },
    {
      "cell_type": "markdown",
      "source": [
        "9.Write the French word for walrus in your three-word dictionary e2f.\n"
      ],
      "metadata": {
        "id": "5G--t9MaIj3Q"
      }
    },
    {
      "cell_type": "code",
      "source": [
        "print(e2f[\"walrus\"])"
      ],
      "metadata": {
        "colab": {
          "base_uri": "https://localhost:8080/"
        },
        "id": "7PPBvqG3Im2L",
        "outputId": "1f704553-748a-4db0-ead6-67cdea367661"
      },
      "execution_count": 10,
      "outputs": [
        {
          "output_type": "stream",
          "name": "stdout",
          "text": [
            "morse\n"
          ]
        }
      ]
    },
    {
      "cell_type": "markdown",
      "source": [
        "10.Make a French-to-English dictionary called f2e from e2f. Use the items method.\n"
      ],
      "metadata": {
        "id": "KUvjOdSLIxaw"
      }
    },
    {
      "cell_type": "code",
      "source": [
        "f2e = dict([ele[::-1] for ele in e2f.items()])\n",
        "print(f2e)"
      ],
      "metadata": {
        "colab": {
          "base_uri": "https://localhost:8080/"
        },
        "id": "jyJ1sc52I0o7",
        "outputId": "4114662b-2251-4c27-e0a2-bb4c1b0d2ec4"
      },
      "execution_count": 11,
      "outputs": [
        {
          "output_type": "stream",
          "name": "stdout",
          "text": [
            "{'chien': 'dog', 'chat': 'cat', 'morse': 'walrus'}\n"
          ]
        }
      ]
    },
    {
      "cell_type": "markdown",
      "source": [
        "11.Print the English version of the French word chien using f2e."
      ],
      "metadata": {
        "id": "el9Z6cxiJD5h"
      }
    },
    {
      "cell_type": "code",
      "source": [
        "print(f2e[\"chien\"])"
      ],
      "metadata": {
        "colab": {
          "base_uri": "https://localhost:8080/"
        },
        "id": "Dwndm6zCJG3f",
        "outputId": "85fb6a78-8584-49ee-ae3b-0abcce539012"
      },
      "execution_count": 12,
      "outputs": [
        {
          "output_type": "stream",
          "name": "stdout",
          "text": [
            "dog\n"
          ]
        }
      ]
    },
    {
      "cell_type": "markdown",
      "source": [
        "12.Make and print a set of English words from the keys in e2f."
      ],
      "metadata": {
        "id": "rlrSfI1AJNwM"
      }
    },
    {
      "cell_type": "code",
      "source": [
        "for k in e2f.keys():\n",
        "  print(k)"
      ],
      "metadata": {
        "colab": {
          "base_uri": "https://localhost:8080/"
        },
        "id": "sq57bJmqJSV4",
        "outputId": "27b4e30e-651e-42f4-8d6c-c57f041c4838"
      },
      "execution_count": 13,
      "outputs": [
        {
          "output_type": "stream",
          "name": "stdout",
          "text": [
            "dog\n",
            "cat\n",
            "walrus\n"
          ]
        }
      ]
    },
    {
      "cell_type": "markdown",
      "source": [
        "13.Make a multilevel dictionary called life. Use these strings for the topmost keys: 'animals', 'plants', and 'other'. Make the 'animals' key refer to another dictionary with the keys 'cats', 'octopi', and 'emus'. Make the 'cats' key refer to a list of strings with the values 'Henri', 'Grumpy', and 'Lucy'. Make all the other keys refer to empty dictionaries.\n"
      ],
      "metadata": {
        "id": "V2JvCG8XJZPh"
      }
    },
    {
      "cell_type": "code",
      "source": [
        "life = {\n",
        "    'animals':{\n",
        "        'cats':['Henri','Grumpy','Lucy'],\n",
        "        'octopi':{},\n",
        "        'emus':{}\n",
        "    },\n",
        "    'plants':{},\n",
        "    'other':{}\n",
        "}\n",
        "print(life)"
      ],
      "metadata": {
        "colab": {
          "base_uri": "https://localhost:8080/"
        },
        "id": "WSqXo421Jcmt",
        "outputId": "3d151c92-b359-483d-8c46-297d329b9350"
      },
      "execution_count": 14,
      "outputs": [
        {
          "output_type": "stream",
          "name": "stdout",
          "text": [
            "{'animals': {'cats': ['Henri', 'Grumpy', 'Lucy'], 'octopi': {}, 'emus': {}}, 'plants': {}, 'other': {}}\n"
          ]
        }
      ]
    },
    {
      "cell_type": "markdown",
      "source": [
        "14.Print the top-level keys of life."
      ],
      "metadata": {
        "id": "TnfylvJgJgTr"
      }
    },
    {
      "cell_type": "code",
      "source": [
        "print(list(life.keys()))"
      ],
      "metadata": {
        "colab": {
          "base_uri": "https://localhost:8080/"
        },
        "id": "wdFEIKNmJj1i",
        "outputId": "6f2b052e-921f-4286-8f3f-ff8a9bdded6d"
      },
      "execution_count": 15,
      "outputs": [
        {
          "output_type": "stream",
          "name": "stdout",
          "text": [
            "['animals', 'plants', 'other']\n"
          ]
        }
      ]
    },
    {
      "cell_type": "markdown",
      "source": [
        "15.Print the keys for life['animals'].\n"
      ],
      "metadata": {
        "id": "snUjufNLJm84"
      }
    },
    {
      "cell_type": "code",
      "source": [
        "print(list(life['animals'].keys()))"
      ],
      "metadata": {
        "colab": {
          "base_uri": "https://localhost:8080/"
        },
        "id": "Q9RTVopCJpPh",
        "outputId": "f82d666c-4b32-4812-f9e3-f089b59c70a0"
      },
      "execution_count": 16,
      "outputs": [
        {
          "output_type": "stream",
          "name": "stdout",
          "text": [
            "['cats', 'octopi', 'emus']\n"
          ]
        }
      ]
    },
    {
      "cell_type": "markdown",
      "source": [
        "16.Print the values for life['animals']['cats']"
      ],
      "metadata": {
        "id": "aQhLgEmaJsxa"
      }
    },
    {
      "cell_type": "code",
      "source": [
        "print(life['animals']['cats'])"
      ],
      "metadata": {
        "colab": {
          "base_uri": "https://localhost:8080/"
        },
        "id": "n0Q9xSFuJwFP",
        "outputId": "dd85150a-db6b-441e-80bf-50d4dc34b6bf"
      },
      "execution_count": 17,
      "outputs": [
        {
          "output_type": "stream",
          "name": "stdout",
          "text": [
            "['Henri', 'Grumpy', 'Lucy']\n"
          ]
        }
      ]
    }
  ]
}