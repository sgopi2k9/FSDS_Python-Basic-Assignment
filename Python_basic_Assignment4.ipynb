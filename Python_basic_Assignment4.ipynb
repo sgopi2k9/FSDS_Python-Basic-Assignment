{
  "nbformat": 4,
  "nbformat_minor": 0,
  "metadata": {
    "colab": {
      "name": "Python_basic_Assignment4.ipynb",
      "provenance": [],
      "collapsed_sections": []
    },
    "kernelspec": {
      "name": "python3",
      "display_name": "Python 3"
    },
    "language_info": {
      "name": "python"
    }
  },
  "cells": [
    {
      "cell_type": "markdown",
      "source": [
        "Question 1.What exactly is []?"
      ],
      "metadata": {
        "id": "o1KJtF89VVR4"
      }
    },
    {
      "cell_type": "markdown",
      "source": [
        "**Answer** [] denotes list which is a datatype in python used to store multiple values"
      ],
      "metadata": {
        "id": "IqjIBqb3VYOu"
      }
    },
    {
      "cell_type": "markdown",
      "source": [
        "Question 2.In a list of values stored in a variable called spam, how would you assign the value &#39;hello&#39; as the\n",
        "third value? (Assume [2, 4, 6, 8, 10] are in spam.)"
      ],
      "metadata": {
        "id": "B8UgO1ewVoJq"
      }
    },
    {
      "cell_type": "markdown",
      "source": [
        "**Answer** spam.insert(2,\"hello\")"
      ],
      "metadata": {
        "id": "wNArq3i3VqFC"
      }
    },
    {
      "cell_type": "markdown",
      "source": [
        "Let&#39;s pretend the spam includes the list [&#39;a&#39;, &#39;b&#39;, &#39;c&#39;, &#39;d&#39;] for the next three queries."
      ],
      "metadata": {
        "id": "ilAVcCMFWPBv"
      }
    },
    {
      "cell_type": "markdown",
      "source": [
        "Question 3.What is the value of spam[int(int(&#39;3&#39; * 2) / 11)]?"
      ],
      "metadata": {
        "id": "zyQleJOfWXQy"
      }
    },
    {
      "cell_type": "markdown",
      "source": [
        "**Answer** d"
      ],
      "metadata": {
        "id": "etlFdUKoWcia"
      }
    },
    {
      "cell_type": "markdown",
      "source": [
        "Question 4.What is the value of spam[-1]?"
      ],
      "metadata": {
        "id": "tMqONeefXEEZ"
      }
    },
    {
      "cell_type": "markdown",
      "source": [
        "**Answer** d"
      ],
      "metadata": {
        "id": "7dUn-y-TXFvm"
      }
    },
    {
      "cell_type": "code",
      "source": [
        "a=[1,2,34]\n",
        "b=tuple(a)\n",
        "print(b)\n",
        "type(b)"
      ],
      "metadata": {
        "colab": {
          "base_uri": "https://localhost:8080/"
        },
        "id": "4slWfX6qXJm1",
        "outputId": "f15b0201-8b70-43e8-f821-2c4587d5b18e"
      },
      "execution_count": 20,
      "outputs": [
        {
          "output_type": "stream",
          "name": "stdout",
          "text": [
            "(1, 2, 34)\n"
          ]
        },
        {
          "output_type": "execute_result",
          "data": {
            "text/plain": [
              "tuple"
            ]
          },
          "metadata": {},
          "execution_count": 20
        }
      ]
    },
    {
      "cell_type": "markdown",
      "source": [
        "Question 5.What is the value of spam[:2]?"
      ],
      "metadata": {
        "id": "mYB_KW5dXVtF"
      }
    },
    {
      "cell_type": "markdown",
      "source": [
        "**Answer** ['a', 'b']"
      ],
      "metadata": {
        "id": "JBZpRPxBXbsc"
      }
    },
    {
      "cell_type": "markdown",
      "source": [
        "Let&#39;s pretend bacon has the list [3.14, &#39;cat,&#39; 11, &#39;cat,&#39; True] for the next three questions."
      ],
      "metadata": {
        "id": "7WbZaG9kXjk6"
      }
    },
    {
      "cell_type": "markdown",
      "source": [
        "Question 6.What is the value of bacon.index(&#39;cat&#39;)?"
      ],
      "metadata": {
        "id": "W4aGNVtbXlMg"
      }
    },
    {
      "cell_type": "markdown",
      "source": [
        "**Answer** 1"
      ],
      "metadata": {
        "id": "N7QJ6mr_YlSD"
      }
    },
    {
      "cell_type": "markdown",
      "source": [
        "Question 7.How does bacon.append(99) change the look of the list value in bacon?"
      ],
      "metadata": {
        "id": "rgIPOgHZY9wa"
      }
    },
    {
      "cell_type": "markdown",
      "source": [
        "**Answer** this will add 99 value at the end of the list . [3.14, 'cat', 11, 'cat', True, 99]\n"
      ],
      "metadata": {
        "id": "YQrrLjMbZAHN"
      }
    },
    {
      "cell_type": "markdown",
      "source": [
        "Question 8.How does bacon.remove(&#39;cat&#39;) change the look of the list in bacon?"
      ],
      "metadata": {
        "id": "-VEDVf4gZOLy"
      }
    },
    {
      "cell_type": "markdown",
      "source": [
        "**Answer** [3.14, 11, 'cat', True]"
      ],
      "metadata": {
        "id": "lDuTRzfgZS8O"
      }
    },
    {
      "cell_type": "markdown",
      "source": [
        "Question 9.What are the list concatenation and list replication operators?"
      ],
      "metadata": {
        "id": "0PuNQJ_cZkkP"
      }
    },
    {
      "cell_type": "markdown",
      "source": [
        "**Answer** + concatenate operator adds two list together\n",
        "* list replication operator replicates the list number of times its mentioned"
      ],
      "metadata": {
        "id": "vzhfjQy4ZtC3"
      }
    },
    {
      "cell_type": "markdown",
      "source": [
        "Question 10.What is difference between the list methods append() and insert()?"
      ],
      "metadata": {
        "id": "qX6Rd38JaZgJ"
      }
    },
    {
      "cell_type": "markdown",
      "source": [
        "**Answer** append() adds the item to the end of list\n",
        "insert() takes arguements item and index value and inserts the value at the specified location"
      ],
      "metadata": {
        "id": "nroiO4Cbaf9o"
      }
    },
    {
      "cell_type": "markdown",
      "source": [
        "Question 11.What are the two methods for removing items from a list?"
      ],
      "metadata": {
        "id": "UNVmK50wawG6"
      }
    },
    {
      "cell_type": "markdown",
      "source": [
        "**Answer** remove() and pop() methods can be used to remove items from the list\n",
        "remove() - takes arguement to remove specific item from the list\n",
        "pop() - removes last value from the list"
      ],
      "metadata": {
        "id": "lwqgmnuxayTu"
      }
    },
    {
      "cell_type": "markdown",
      "source": [
        "Question 12.Describe how list values and string values are identical."
      ],
      "metadata": {
        "id": "ZSpy4MovczWN"
      }
    },
    {
      "cell_type": "markdown",
      "source": [
        "**Answer** String and List can be accessed using index values. Both can be converted to iterable object and can be iterated using loop"
      ],
      "metadata": {
        "id": "-GKFqHPlc1S0"
      }
    },
    {
      "cell_type": "markdown",
      "source": [
        "Question 13.What&#39;s the difference between tuples and lists?"
      ],
      "metadata": {
        "id": "Jk1i-OV8gWK3"
      }
    },
    {
      "cell_type": "markdown",
      "source": [
        "**Answer** tuple is a immutable object whereas list is a mutable object. mutable object list allows modification, deletion, addition etc whereas immutable object tuple does not allow any modification"
      ],
      "metadata": {
        "id": "nlMKTq5XgX2C"
      }
    },
    {
      "cell_type": "markdown",
      "source": [
        "Question 14.How do you type a tuple value that only contains the integer 42?"
      ],
      "metadata": {
        "id": "8CdpjCpPg1iQ"
      }
    },
    {
      "cell_type": "markdown",
      "source": [
        "**Answer** a=(42)"
      ],
      "metadata": {
        "id": "AXP-UqlTg4qf"
      }
    },
    {
      "cell_type": "markdown",
      "source": [
        "Question 15.How do you get a list value&#39;s tuple form? How do you get a tuple value&#39;s list form?"
      ],
      "metadata": {
        "id": "faELom4BkIFG"
      }
    },
    {
      "cell_type": "markdown",
      "source": [
        "**Answer** tuple() and list() function can be used to get list and tuple form\n",
        "For example tuple(<list>) can be passed here to get tuple form\n",
        "list(<tuple>) can be passed here to get list form"
      ],
      "metadata": {
        "id": "Hcu3TqMgkJ86"
      }
    },
    {
      "cell_type": "markdown",
      "source": [
        "Question 16.Variables that &quot;contain&quot; list values are not necessarily lists themselves. Instead, what do they\n",
        "contain?"
      ],
      "metadata": {
        "id": "OeEoLDVvksS2"
      }
    },
    {
      "cell_type": "markdown",
      "source": [
        "**Answer** list stores references to other datatypes such as int, string, float, other list etc"
      ],
      "metadata": {
        "id": "m6PV1TnPkvqJ"
      }
    },
    {
      "cell_type": "markdown",
      "source": [
        "Question 17.How do you distinguish between copy.copy() and copy.deepcopy()?"
      ],
      "metadata": {
        "id": "is2zL_Oil6yy"
      }
    },
    {
      "cell_type": "markdown",
      "source": [
        "**Answer** copy() creates a new collection object and then populates it with reference to child objects.\n",
        "deepcopy() creates a new collection object and then recursively populating it with copies of the child objects found in the original\n",
        "In copy() changes to child object also modifies the parent object.\n",
        "In deepcopy() changes to child object does not reflects in parent object."
      ],
      "metadata": {
        "id": "I6usL0tel88n"
      }
    }
  ]
}