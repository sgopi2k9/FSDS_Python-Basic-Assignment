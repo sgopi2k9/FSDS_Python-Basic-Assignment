{
  "nbformat": 4,
  "nbformat_minor": 0,
  "metadata": {
    "colab": {
      "name": "Python_basic_Assignment11.ipynb",
      "provenance": [],
      "collapsed_sections": []
    },
    "kernelspec": {
      "name": "python3",
      "display_name": "Python 3"
    },
    "language_info": {
      "name": "python"
    }
  },
  "cells": [
    {
      "cell_type": "markdown",
      "source": [
        "Question 1. Create an assert statement that throws an AssertionError if the variable spam is a negative\n",
        "integer."
      ],
      "metadata": {
        "id": "FFandS6yGxsY"
      }
    },
    {
      "cell_type": "code",
      "source": [
        "spam = -1\n",
        "assert spam >= 0"
      ],
      "metadata": {
        "colab": {
          "base_uri": "https://localhost:8080/",
          "height": 183
        },
        "id": "P-wEFFmmHA4K",
        "outputId": "f4b0987c-9e61-4753-a3e7-756e95ff4ebf"
      },
      "execution_count": 1,
      "outputs": [
        {
          "output_type": "error",
          "ename": "AssertionError",
          "evalue": "ignored",
          "traceback": [
            "\u001b[0;31m---------------------------------------------------------------------------\u001b[0m",
            "\u001b[0;31mAssertionError\u001b[0m                            Traceback (most recent call last)",
            "\u001b[0;32m<ipython-input-1-68233c0c0bfd>\u001b[0m in \u001b[0;36m<module>\u001b[0;34m()\u001b[0m\n\u001b[1;32m      1\u001b[0m \u001b[0mspam\u001b[0m \u001b[0;34m=\u001b[0m \u001b[0;34m-\u001b[0m\u001b[0;36m1\u001b[0m\u001b[0;34m\u001b[0m\u001b[0;34m\u001b[0m\u001b[0m\n\u001b[0;32m----> 2\u001b[0;31m \u001b[0;32massert\u001b[0m \u001b[0mspam\u001b[0m \u001b[0;34m>=\u001b[0m \u001b[0;36m0\u001b[0m\u001b[0;34m\u001b[0m\u001b[0;34m\u001b[0m\u001b[0m\n\u001b[0m",
            "\u001b[0;31mAssertionError\u001b[0m: "
          ]
        }
      ]
    },
    {
      "cell_type": "markdown",
      "source": [
        "Question 2.Write an assert statement that triggers an AssertionError if the variables eggs and bacon contain\n",
        "strings that are the same as each other, even if their cases are different (that is, &#39;hello&#39; and &#39;hello&#39; are\n",
        "considered the same, and &#39;goodbye&#39; and &#39;GOODbye&#39; are also considered the same)."
      ],
      "metadata": {
        "id": "H333XWYvHQZk"
      }
    },
    {
      "cell_type": "code",
      "source": [
        "eggs = \"hello\"\n",
        "bacon = \"HeLLO\"\n",
        "assert eggs.upper() != bacon.upper() "
      ],
      "metadata": {
        "colab": {
          "base_uri": "https://localhost:8080/",
          "height": 200
        },
        "id": "8cKTjcnzH67A",
        "outputId": "75f82404-fe1e-4aa9-e66a-ff0c592c935e"
      },
      "execution_count": 2,
      "outputs": [
        {
          "output_type": "error",
          "ename": "AssertionError",
          "evalue": "ignored",
          "traceback": [
            "\u001b[0;31m---------------------------------------------------------------------------\u001b[0m",
            "\u001b[0;31mAssertionError\u001b[0m                            Traceback (most recent call last)",
            "\u001b[0;32m<ipython-input-2-d3231e7c9897>\u001b[0m in \u001b[0;36m<module>\u001b[0;34m()\u001b[0m\n\u001b[1;32m      1\u001b[0m \u001b[0meggs\u001b[0m \u001b[0;34m=\u001b[0m \u001b[0;34m\"hello\"\u001b[0m\u001b[0;34m\u001b[0m\u001b[0;34m\u001b[0m\u001b[0m\n\u001b[1;32m      2\u001b[0m \u001b[0mbacon\u001b[0m \u001b[0;34m=\u001b[0m \u001b[0;34m\"HeLLO\"\u001b[0m\u001b[0;34m\u001b[0m\u001b[0;34m\u001b[0m\u001b[0m\n\u001b[0;32m----> 3\u001b[0;31m \u001b[0;32massert\u001b[0m \u001b[0meggs\u001b[0m\u001b[0;34m.\u001b[0m\u001b[0mupper\u001b[0m\u001b[0;34m(\u001b[0m\u001b[0;34m)\u001b[0m \u001b[0;34m!=\u001b[0m \u001b[0mbacon\u001b[0m\u001b[0;34m.\u001b[0m\u001b[0mupper\u001b[0m\u001b[0;34m(\u001b[0m\u001b[0;34m)\u001b[0m\u001b[0;34m\u001b[0m\u001b[0;34m\u001b[0m\u001b[0m\n\u001b[0m",
            "\u001b[0;31mAssertionError\u001b[0m: "
          ]
        }
      ]
    },
    {
      "cell_type": "markdown",
      "source": [
        "Question 3.Create an assert statement that throws an AssertionError every time."
      ],
      "metadata": {
        "id": "0OKaB7H4IAWD"
      }
    },
    {
      "cell_type": "code",
      "source": [
        "assert False == True"
      ],
      "metadata": {
        "colab": {
          "base_uri": "https://localhost:8080/",
          "height": 165
        },
        "id": "grecGuaFIEI0",
        "outputId": "7113be0a-8788-40bd-d11e-ea29d7aa02d3"
      },
      "execution_count": 3,
      "outputs": [
        {
          "output_type": "error",
          "ename": "AssertionError",
          "evalue": "ignored",
          "traceback": [
            "\u001b[0;31m---------------------------------------------------------------------------\u001b[0m",
            "\u001b[0;31mAssertionError\u001b[0m                            Traceback (most recent call last)",
            "\u001b[0;32m<ipython-input-3-611f08574504>\u001b[0m in \u001b[0;36m<module>\u001b[0;34m()\u001b[0m\n\u001b[0;32m----> 1\u001b[0;31m \u001b[0;32massert\u001b[0m \u001b[0;32mFalse\u001b[0m \u001b[0;34m==\u001b[0m \u001b[0;32mTrue\u001b[0m\u001b[0;34m\u001b[0m\u001b[0;34m\u001b[0m\u001b[0m\n\u001b[0m",
            "\u001b[0;31mAssertionError\u001b[0m: "
          ]
        }
      ]
    },
    {
      "cell_type": "markdown",
      "source": [
        "Question 4.What are the two lines that must be present in your software in order to call logging.debug()?"
      ],
      "metadata": {
        "id": "1GF_PGi0IQEn"
      }
    },
    {
      "cell_type": "markdown",
      "source": [
        "import logging\n",
        "\n",
        "logging.basicConfig(filename=\"test.log\")"
      ],
      "metadata": {
        "id": "uSy9jHGAIS2H"
      }
    },
    {
      "cell_type": "markdown",
      "source": [
        "Question 5.What are the two lines that your program must have in order to have logging.debug() send a\n",
        "logging message to a file named programLog.txt?"
      ],
      "metadata": {
        "id": "H7MJtL95IxbV"
      }
    },
    {
      "cell_type": "markdown",
      "source": [
        "import logging\n",
        "\n",
        "logging.basicConfig(filename=\"programLog.txt\",logLevel=logging.DEBUG)"
      ],
      "metadata": {
        "id": "bbObBxbUI4VM"
      }
    },
    {
      "cell_type": "markdown",
      "source": [
        "Question 6.What are the five levels of logging?"
      ],
      "metadata": {
        "id": "m_BDCjSKJGbI"
      }
    },
    {
      "cell_type": "markdown",
      "source": [
        "The five levels of logging are\n",
        "\n",
        "Debug\n",
        "\n",
        "Info\n",
        "\n",
        "Warning\n",
        "\n",
        "Error\n",
        "\n",
        "Critical"
      ],
      "metadata": {
        "id": "05dEFYVvJH1G"
      }
    },
    {
      "cell_type": "markdown",
      "source": [
        "Question 7.What line of code would you add to your software to disable all logging messages?"
      ],
      "metadata": {
        "id": "Ba-7WqTeJQ2i"
      }
    },
    {
      "cell_type": "markdown",
      "source": [
        "logging.disable(level=loglevel) can be used to disable log messages below the level.\n",
        "\n",
        "logging.disable(logging.DEBUG) will disable all the logging messages"
      ],
      "metadata": {
        "id": "D2jEXV6XJUbN"
      }
    },
    {
      "cell_type": "markdown",
      "source": [
        "Question 8.Why is using logging messages better than using print() to display the same message?"
      ],
      "metadata": {
        "id": "hxzVNpKMJyn1"
      }
    },
    {
      "cell_type": "markdown",
      "source": [
        "As a standard practice, logging will write all the messages to a file and provides different log level options which will help to investigate incase of any issues. However incase of print messages will write to console which will not be helpful. In production code will not be executed in python console which will be difficult to investigate incase of any problem"
      ],
      "metadata": {
        "id": "IT_Q7eGJJz4D"
      }
    },
    {
      "cell_type": "markdown",
      "source": [
        "Question 9.What are the differences between the Step Over, Step In, and Step Out buttons in the debugger?"
      ],
      "metadata": {
        "id": "CmfDa4QQKRZB"
      }
    },
    {
      "cell_type": "markdown",
      "source": [
        "Step Into: \"When the next statement to execute reaches a method call, dont execute the method as a whole, but rather, execute the first line of that method and stop\"\n",
        "\n",
        "Step Over: \"When the next statement to execute reaches a method call, execute the method as a whole and stop\"\n",
        "\n",
        "Step Out: \"Finish off executing the callee's code and stop when execution returns to the caller\""
      ],
      "metadata": {
        "id": "xi2WQoWHKS5p"
      }
    },
    {
      "cell_type": "markdown",
      "source": [
        "Question 10.After you click Continue, when will the debugger stop ?"
      ],
      "metadata": {
        "id": "Wg-uEnqXK2ke"
      }
    },
    {
      "cell_type": "markdown",
      "source": [
        "The debugger will stop at the next breakpoint when we click continue"
      ],
      "metadata": {
        "id": "hEoX8amSK6Qi"
      }
    },
    {
      "cell_type": "markdown",
      "source": [
        "Question 11.What is the concept of a breakpoint?"
      ],
      "metadata": {
        "id": "qFSvo588K9lX"
      }
    },
    {
      "cell_type": "markdown",
      "source": [
        "breakpoint is used to stop the execution of the program at a particular line."
      ],
      "metadata": {
        "id": "sNajfwgDLCUo"
      }
    }
  ]
}