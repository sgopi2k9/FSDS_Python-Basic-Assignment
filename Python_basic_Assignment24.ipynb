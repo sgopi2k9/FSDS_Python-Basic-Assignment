{
 "cells": [
  {
   "cell_type": "markdown",
   "id": "ed780c95",
   "metadata": {},
   "source": [
    "1. What is the relationship between def statements and lambda expressions ?"
   ]
  },
  {
   "cell_type": "markdown",
   "id": "58439591",
   "metadata": {},
   "source": [
    "Ans: def statement is used to create a normal function. where as lamba expressions are used to create Anonymous functions. which can be assigned to a variable and can be called using the variable later in function.\n",
    "\n",
    "Lambda's body is a single expression and not a block of statements like def statement. The lambda expression's body is similar to what we'd put in a def body's return statement. We simply type the result as an expression instead of explicitly returning it. Because it is limited to an expression, a lambda is less general than a def statement."
   ]
  },
  {
   "cell_type": "markdown",
   "id": "1a5a8d71",
   "metadata": {},
   "source": [
    "2. What is the benefit of lambda?"
   ]
  },
  {
   "cell_type": "markdown",
   "id": "8dfb8f90",
   "metadata": {},
   "source": [
    "Ans: The following are some of the benefits of lambda expressions:\n",
    "\n",
    "Can be used to create Nameless/Anonymous functions inside some complex functions if we are planning to use it only once.\n",
    "Moderate to small functions can be created in a single line\n",
    "Fuctions created using lambda expressions can be assigned to a variable and can be used by simply calling the variable"
   ]
  },
  {
   "cell_type": "markdown",
   "id": "a94a6a85",
   "metadata": {},
   "source": [
    "3. Compar and contrast map, filter, and reduce."
   ]
  },
  {
   "cell_type": "markdown",
   "id": "5659fdd0",
   "metadata": {},
   "source": [
    "Ans: The differences between map, filter and reduce are:\n",
    "\n",
    "map(): The map() function is a type of higher-order. This function takes another function as a parameter along with a sequence of iterables and returns an output after applying the function to each iterable present in the sequence.\n",
    "filter(): The filter() function is used to create an output list consisting of values for which the function returns true.\n",
    "reduce(): The reduce() function, as the name describes, applies a given function to the iterables and returns a single value"
   ]
  },
  {
   "cell_type": "markdown",
   "id": "a40d5890",
   "metadata": {},
   "source": [
    "4. What are function annotations, and how are they used?"
   ]
  },
  {
   "cell_type": "markdown",
   "id": "cb3084b2",
   "metadata": {},
   "source": [
    "Ans: Function annotations provide a way of associating various parts of a function with arbitrary pythoncexpressions at compile time.\n",
    "Annotations of simple parameters def func(x: expression, y: expression = 20):\n",
    "Whereas the annotations for excess parameters are as − def func (**args: expression, **kwargs: expression):"
   ]
  },
  {
   "cell_type": "markdown",
   "id": "e34be089",
   "metadata": {},
   "source": [
    "5. What arerecursive functions, and how are they used?"
   ]
  },
  {
   "cell_type": "markdown",
   "id": "ade01485",
   "metadata": {},
   "source": [
    "Ans: A recursive function is a function that calls itself during its execution. The process may repeat several times, outputting the result and the end of each iteration."
   ]
  },
  {
   "cell_type": "markdown",
   "id": "2b01bdda",
   "metadata": {},
   "source": [
    "6. Wat are some general design guidelines for coding functions?"
   ]
  },
  {
   "cell_type": "markdown",
   "id": "7b22a75f",
   "metadata": {},
   "source": [
    "Ans: Some of the general design guidelines for coding functions are:\n",
    "\n",
    "Always use a docstring to explain the functionality of the function\n",
    "avoid using or limited use of global variables\n",
    "Proper Identation to increase the code readability\n",
    "try to follow a naming convention for function names (pascalCase or camelCase) and stick with the same convention throughout the application.\n",
    "Avoid using digits while choosing a variable name\n",
    "try to use a name for the function which conveys the purpose of the function\n",
    "Local variables should be named using camelCase format (ex: localVariable) whereas Global variables names should be using PascalCase (ex:GlobalVariable).\n",
    "Constant should be represented in allcaps (ex:CONSTANT)."
   ]
  },
  {
   "cell_type": "markdown",
   "id": "90ff8025",
   "metadata": {},
   "source": [
    "7. Name three or more ways that functions can communicate results to a caller."
   ]
  },
  {
   "cell_type": "markdown",
   "id": "b82705c9",
   "metadata": {},
   "source": [
    "Ans: Some of the ways in which a function can communicate with the calling function is:\n",
    "\n",
    "print\n",
    "return\n",
    "yield"
   ]
  }
 ],
 "metadata": {
  "kernelspec": {
   "display_name": "Python 3 (ipykernel)",
   "language": "python",
   "name": "python3"
  },
  "language_info": {
   "codemirror_mode": {
    "name": "ipython",
    "version": 3
   },
   "file_extension": ".py",
   "mimetype": "text/x-python",
   "name": "python",
   "nbconvert_exporter": "python",
   "pygments_lexer": "ipython3",
   "version": "3.9.7"
  }
 },
 "nbformat": 4,
 "nbformat_minor": 5
}
