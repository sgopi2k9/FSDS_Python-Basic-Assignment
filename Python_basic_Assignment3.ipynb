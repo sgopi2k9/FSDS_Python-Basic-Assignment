{
  "nbformat": 4,
  "nbformat_minor": 0,
  "metadata": {
    "colab": {
      "name": "Python_basic_Assignment3.ipynb",
      "provenance": [],
      "collapsed_sections": []
    },
    "kernelspec": {
      "name": "python3",
      "display_name": "Python 3"
    },
    "language_info": {
      "name": "python"
    }
  },
  "cells": [
    {
      "cell_type": "markdown",
      "source": [
        "Question 1.Why are functions advantageous to have in your programs?"
      ],
      "metadata": {
        "id": "_4BC3TL5IaMz"
      }
    },
    {
      "cell_type": "markdown",
      "source": [
        "**Answer** The advantage of function is modularity. We don't need to rewrite the same lines of code again and again. We can make some lines of code as function so that it can be reused again and again.Functions also enable to segregate the code according to functional use."
      ],
      "metadata": {
        "id": "931x2e02I25B"
      }
    },
    {
      "cell_type": "markdown",
      "source": [
        "Question 2.When does the code in a function run: when it&#39;s specified or when it&#39;s called?"
      ],
      "metadata": {
        "id": "Nt6IAgxCJCON"
      }
    },
    {
      "cell_type": "markdown",
      "source": [
        "**Answer** Code in a function will run when it is called.\n",
        "For example a function named fibonacci can be called by mentioning the name.\n",
        "fibonacci() - No arguement no return\n",
        "fibonacci(3) - With arguement no return\n",
        "result = fibonacci(3) - with arguement and with return"
      ],
      "metadata": {
        "id": "dbolHhu6JHS6"
      }
    },
    {
      "cell_type": "markdown",
      "source": [
        "Question 3.What statement creates a function?"
      ],
      "metadata": {
        "id": "PuFBTsVgJjII"
      }
    },
    {
      "cell_type": "markdown",
      "source": [
        "**Answer** In python def followed by function name, parantheses and a colon creates a function.\n",
        "For example following creates a function\n",
        "def function_name():\n",
        "  lines of code"
      ],
      "metadata": {
        "id": "2mkmyAMmJlbW"
      }
    },
    {
      "cell_type": "markdown",
      "source": [
        "Question 4.What is the difference between a function and a function call?"
      ],
      "metadata": {
        "id": "C8HhiP2NJ_vQ"
      }
    },
    {
      "cell_type": "markdown",
      "source": [
        "**Answer**  A function is a method or procedure with lines of code to define a particular result or task\n",
        "A function call is using the function to execute that particular lines of code  to acchieve that particular result or task.\n"
      ],
      "metadata": {
        "id": "aVMQGuJVKBoK"
      }
    },
    {
      "cell_type": "markdown",
      "source": [
        "Question 5.How many global scopes are there in a Python program? How many local scopes?"
      ],
      "metadata": {
        "id": "AfgFEoLVK3Zk"
      }
    },
    {
      "cell_type": "markdown",
      "source": [
        "**Answer** There is 1 global scope and 1 local scope in python\n",
        "Global scope variables can be accessed anywhere in the module\n",
        "Local scope variables can be accessed only within in th function or conditional or looping block."
      ],
      "metadata": {
        "id": "dp7qKjMMK8Xb"
      }
    },
    {
      "cell_type": "markdown",
      "source": [
        "Question 6.What happens to variables in a local scope when the function call returns?"
      ],
      "metadata": {
        "id": "vD3iO-cWNFp7"
      }
    },
    {
      "cell_type": "markdown",
      "source": [
        "**Answer** When the function call returns the variables in local scope will be destroyed. The next time function is called, it won't remember the values of the variables."
      ],
      "metadata": {
        "id": "GOlqxjwdNPPH"
      }
    },
    {
      "cell_type": "markdown",
      "source": [
        "Question 7.What is the concept of a return value? Is it possible to have a return value in an expression?"
      ],
      "metadata": {
        "id": "3wLCb3QaOXJ3"
      }
    },
    {
      "cell_type": "markdown",
      "source": [
        "**Answer** A function can execute lines of code defined within it and finally return the output of the operation as return value. A function can return one or more values or no return value as well."
      ],
      "metadata": {
        "id": "IAw83XaZOclH"
      }
    },
    {
      "cell_type": "markdown",
      "source": [
        "Question 8.If a function does not have a return statement, what is the return value of a call to that function?"
      ],
      "metadata": {
        "id": "wm0xhpRbO1wl"
      }
    },
    {
      "cell_type": "markdown",
      "source": [
        "**Answer** When a function does not have a return statment, the program  returns null value . This is taken care internally by python. We no need to mention explicitly return when there is no need to return any value."
      ],
      "metadata": {
        "id": "Y9Lo_aOjO3la"
      }
    },
    {
      "cell_type": "markdown",
      "source": [
        "Question 9.How do you make a function variable refer to the global variable? "
      ],
      "metadata": {
        "id": "ojM37cY0PK6-"
      }
    },
    {
      "cell_type": "markdown",
      "source": [
        "**Answer** Global variables can be used anywhere in the python module. so the global variables can be used within a function.\n",
        "On the other hand, if we want to make a function variable refer everywhere we can use global keyword and make the function variable a global variable\n"
      ],
      "metadata": {
        "id": "ffIxsz14PQIT"
      }
    },
    {
      "cell_type": "markdown",
      "source": [
        "Question 10.What is the data type of None?"
      ],
      "metadata": {
        "id": "RduDqlapRFoZ"
      }
    },
    {
      "cell_type": "markdown",
      "source": [
        "**Answer** NoneType"
      ],
      "metadata": {
        "id": "mR69TruQRJPV"
      }
    },
    {
      "cell_type": "markdown",
      "source": [
        "Question 11.What does the sentence import areallyourpetsnamederic do?"
      ],
      "metadata": {
        "id": "50s986hZRgHj"
      }
    },
    {
      "cell_type": "markdown",
      "source": [
        "**Answer ** The statement searches for areallyourpetsnamederic class in the current path and makes available all the functions and constants available within it for use in the current module."
      ],
      "metadata": {
        "id": "KEJX7l61RiBp"
      }
    },
    {
      "cell_type": "markdown",
      "source": [
        "Question 12.If you had a bacon() feature in a spam module, what would you call it after importing spam?"
      ],
      "metadata": {
        "id": "NKE47t4STQcC"
      }
    },
    {
      "cell_type": "markdown",
      "source": [
        "**Answer** spam.bacon() is used to call the function"
      ],
      "metadata": {
        "id": "jNEzfKWiTSWT"
      }
    },
    {
      "cell_type": "markdown",
      "source": [
        "Question 13.What can you do to save a programme from crashing if it encounters an error?"
      ],
      "metadata": {
        "id": "04OKToRmTjHz"
      }
    },
    {
      "cell_type": "markdown",
      "source": [
        "**Answer** We can use exception handling using try..except and handle the error in except block. This prevents program from crashing."
      ],
      "metadata": {
        "id": "shs--8-kTlF5"
      }
    },
    {
      "cell_type": "markdown",
      "source": [
        "Question 14.What is the purpose of the try clause? What is the purpose of the except clause?"
      ],
      "metadata": {
        "id": "NXFqa9BaT0Qv"
      }
    },
    {
      "cell_type": "markdown",
      "source": [
        "**Answer** Try is used to define the lines of code or logic that needs to be executed. except block executes code when there is error encountered in the try block."
      ],
      "metadata": {
        "id": "vBTyR7PjT2Xb"
      }
    }
  ]
}