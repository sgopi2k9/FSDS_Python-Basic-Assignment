{
  "nbformat": 4,
  "nbformat_minor": 0,
  "metadata": {
    "colab": {
      "name": "Python_basic_Assignment7.ipynb",
      "provenance": []
    },
    "kernelspec": {
      "name": "python3",
      "display_name": "Python 3"
    },
    "language_info": {
      "name": "python"
    }
  },
  "cells": [
    {
      "cell_type": "markdown",
      "source": [
        "Question 1.What is the name of the feature responsible for generating Regex objects?"
      ],
      "metadata": {
        "id": "IOV8m4sj_GKR"
      }
    },
    {
      "cell_type": "markdown",
      "source": [
        "**Answer**\n",
        "\n",
        "import re\n",
        "\n",
        "re.complie() function generates regex objects"
      ],
      "metadata": {
        "id": "_gfKp-Ua_Jsn"
      }
    },
    {
      "cell_type": "markdown",
      "source": [
        "Question 2.Why do raw strings often appear in Regex objects?"
      ],
      "metadata": {
        "id": "Wq4HJYcc_KRQ"
      }
    },
    {
      "cell_type": "markdown",
      "source": [
        "**Answer**\n",
        "\n",
        "Rawstrings are used so that backslash need not be escaped in regex"
      ],
      "metadata": {
        "id": "8exDaTqV_Np7"
      }
    },
    {
      "cell_type": "markdown",
      "source": [
        "Question 3.What is the return value of the search() method?"
      ],
      "metadata": {
        "id": "PdgS30Ws_N6q"
      }
    },
    {
      "cell_type": "markdown",
      "source": [
        "**Answer**\n",
        "\n",
        "search() method returns match object. NoneType if no match found"
      ],
      "metadata": {
        "id": "c4bVP1Wk_REH"
      }
    },
    {
      "cell_type": "code",
      "source": [
        "import re\n",
        "sam = \"this is sample\"\n",
        "type(re.search(\"sam*\",sam))"
      ],
      "metadata": {
        "colab": {
          "base_uri": "https://localhost:8080/"
        },
        "id": "LmKAzvpWfVwN",
        "outputId": "290ad93d-20e5-4df8-ffc3-47a57989e4c7"
      },
      "execution_count": 24,
      "outputs": [
        {
          "output_type": "execute_result",
          "data": {
            "text/plain": [
              "re.Match"
            ]
          },
          "metadata": {},
          "execution_count": 24
        }
      ]
    },
    {
      "cell_type": "markdown",
      "source": [
        "Question 4.From a Match item, how do you get the actual strings that match the pattern?"
      ],
      "metadata": {
        "id": "7EYdEfHe_UKK"
      }
    },
    {
      "cell_type": "markdown",
      "source": [
        "**Answer**\n",
        "\n",
        "object.group() method is used to get the actual string"
      ],
      "metadata": {
        "id": "9No73HXl_WDA"
      }
    },
    {
      "cell_type": "markdown",
      "source": [
        "Question 5.In the regex which created from the r&#39;(\\d\\d\\d)-(\\d\\d\\d-\\d\\d\\d\\d)&#39;, what does group zero cover?\n",
        "Group 2? Group 1?"
      ],
      "metadata": {
        "id": "xaxtST8u_WgP"
      }
    },
    {
      "cell_type": "markdown",
      "source": [
        "**Answer**\n",
        "\n",
        "group 0 stands for entire search string\n",
        "\n",
        "group 1 stands for 1st match in the parantheses\n",
        "\n",
        "group 2 stands for 2nd match in the parantheses"
      ],
      "metadata": {
        "id": "1r7_Klsx_aB6"
      }
    },
    {
      "cell_type": "code",
      "source": [
        "import re\n",
        "s = re.compile(r'(\\d\\d\\d)-(\\d\\d\\d-\\d\\d\\d\\d)')\n",
        "t = \"This is string 123-456-7890\"\n",
        "ma = s.search(t)\n",
        "print(ma.group(0))\n",
        "print(ma.group(1))\n",
        "print(ma.group(2))"
      ],
      "metadata": {
        "colab": {
          "base_uri": "https://localhost:8080/"
        },
        "id": "09G8kDVvg4Rk",
        "outputId": "f2088ff4-4d19-433e-dec9-c2d3f08d13ec"
      },
      "execution_count": 28,
      "outputs": [
        {
          "output_type": "stream",
          "name": "stdout",
          "text": [
            "123-456-7890\n",
            "123\n",
            "456-7890\n"
          ]
        }
      ]
    },
    {
      "cell_type": "markdown",
      "source": [
        "Question 6.In standard expression syntax, parentheses and intervals have distinct meanings. How can you tell\n",
        "a regex that you want it to fit real parentheses and periods?"
      ],
      "metadata": {
        "id": "7h14eiBD_axt"
      }
    },
    {
      "cell_type": "markdown",
      "source": [
        "**Answer**\n",
        "\n",
        "Periods and parentheses can be escaped with a backslash: \\., \\(, and \\)."
      ],
      "metadata": {
        "id": "MqFSrXCr_e-L"
      }
    },
    {
      "cell_type": "markdown",
      "source": [
        "Question 7.The findall() method returns a string list or a list of string tuples. What causes it to return one of\n",
        "the two options?"
      ],
      "metadata": {
        "id": "xQnTSl_v_fXA"
      }
    },
    {
      "cell_type": "markdown",
      "source": [
        "**Answer**\n",
        "\n",
        "If the regex has no groups, a list of strings is returned. If the regex has groups, a list of tuples of strings is \n",
        "returned."
      ],
      "metadata": {
        "id": "Zs7A3cq1_kT_"
      }
    },
    {
      "cell_type": "markdown",
      "source": [
        "Question 8.In standard expressions, what does the | character mean?"
      ],
      "metadata": {
        "id": "U_8Y65Cq_kwq"
      }
    },
    {
      "cell_type": "markdown",
      "source": [
        "**Answer** | represents OR matches with any number of characters sperated by it"
      ],
      "metadata": {
        "id": "OzprtXzo_p6D"
      }
    },
    {
      "cell_type": "markdown",
      "source": [
        "Question 9.In regular expressions, what does the character stand for?"
      ],
      "metadata": {
        "id": "LkG8trtg_qLl"
      }
    },
    {
      "cell_type": "markdown",
      "source": [
        "**Answer**\n",
        "\n",
        "? will match whether the given string preceding the ? character has atleast once or not at all"
      ],
      "metadata": {
        "id": "L2nV_sYp_tzz"
      }
    },
    {
      "cell_type": "markdown",
      "source": [
        "Question 10.In regular expressions, what is the difference between the + and * characters?"
      ],
      "metadata": {
        "id": "sgConVnK_uMK"
      }
    },
    {
      "cell_type": "markdown",
      "source": [
        "**Answer** \n",
        "\n",
        "+ represents one or more occurances of the regex perceding the + symbol\n",
        "\n",
        "* represents zero or more occurances of the regex preceding the * symbol"
      ],
      "metadata": {
        "id": "MpP7jjy-_yWg"
      }
    },
    {
      "cell_type": "markdown",
      "source": [
        "Question 11.What is the difference between {4} and {4,5} in regular expression?"
      ],
      "metadata": {
        "id": "ApZrJSJX_ypU"
      }
    },
    {
      "cell_type": "markdown",
      "source": [
        "**Answer**\n",
        "\n",
        "{4,5} matches atleast 4 and atmost 5 characters of the preceding characters or expression\n",
        "\n",
        "{4} matches exactly 4 characters of the preceding characters or expression\n",
        "For example a{4} will match for aaaab"
      ],
      "metadata": {
        "id": "ELm8YvBe_21K"
      }
    },
    {
      "cell_type": "markdown",
      "source": [
        "Question 12.What do you mean by the \\d, \\w, and \\s shorthand character classes signify in regular\n",
        "expressions?"
      ],
      "metadata": {
        "id": "wz7QLrnK_3LO"
      }
    },
    {
      "cell_type": "markdown",
      "source": [
        "**Answer**\n",
        "\n",
        "\\d matches any decimal digits which is equivalent to set [0-9]\n",
        "\n",
        "\\w matches any alphanumeric characters whic is equivalent to set [a-zA-Z0-9_]\n",
        "\n",
        "\\s matches any white space character"
      ],
      "metadata": {
        "id": "d9Jox7ZZ_67e"
      }
    },
    {
      "cell_type": "markdown",
      "source": [
        "Question 13.What do means by \\D, \\W, and \\S shorthand character classes signify in regular expressions?"
      ],
      "metadata": {
        "id": "X2ach7ms_7Tc"
      }
    },
    {
      "cell_type": "markdown",
      "source": [
        "**Answer**\n",
        "\n",
        "\\D matches any non digit character which is equivalent to set [^0-9]\n",
        "\n",
        "\\S matches any non white space character\n",
        "\n",
        "\\W matches any non alphanumeric character which is equivalent to set [^a-zA-Z0-9]"
      ],
      "metadata": {
        "id": "6rPVVI9p_-8q"
      }
    },
    {
      "cell_type": "markdown",
      "source": [
        "Question 14.What is the difference between .\\* and .\\*?"
      ],
      "metadata": {
        "id": "Rxt1Qzrn__U6"
      }
    },
    {
      "cell_type": "markdown",
      "source": [
        ""
      ],
      "metadata": {
        "id": "WFiTixo9ACy3"
      }
    },
    {
      "cell_type": "markdown",
      "source": [
        "Question 15.What is the syntax for matching both numbers and lowercase letters with a character class?"
      ],
      "metadata": {
        "id": "SSpneavDADKZ"
      }
    },
    {
      "cell_type": "markdown",
      "source": [
        "**Answer**\n",
        "\n",
        "reg1 = re.compile(r'[0-9a-z]')"
      ],
      "metadata": {
        "id": "w5XOx5vdAG1j"
      }
    },
    {
      "cell_type": "markdown",
      "source": [
        "Question 16.What is the procedure for making a normal expression in regax case insensitive?"
      ],
      "metadata": {
        "id": "nkYRqBzKAHGm"
      }
    },
    {
      "cell_type": "markdown",
      "source": [
        "**Answer**\n",
        "\n",
        "By Passing re.I or re.IGNORECASE as the second argument to re.compile() will make the matching case insensitive"
      ],
      "metadata": {
        "id": "m4E70ifxAKek"
      }
    },
    {
      "cell_type": "markdown",
      "source": [
        "Question 17.What does the . character normally match? What does it match if re.DOTALL is passed as 2nd\n",
        "argument in re.compile()?"
      ],
      "metadata": {
        "id": "PILwC94EAK0F"
      }
    },
    {
      "cell_type": "markdown",
      "source": [
        "**Answer**\n",
        "\n",
        "The . character normally matches any character except the newline character. \n",
        "If re.DOTALL is passed as the second argument to re.compile(), then the dot will also match newline characters."
      ],
      "metadata": {
        "id": "9XK4cR_nAOAr"
      }
    },
    {
      "cell_type": "markdown",
      "source": [
        "Question 18.If numReg = re.compile(r&#39;\\d+&#39;), what will numRegex.sub(&#39;X&#39;, &#39;11 drummers, 10 pipers, five rings, 4\n",
        "hen&#39;) return?"
      ],
      "metadata": {
        "id": "V0OVsY1uAOdk"
      }
    },
    {
      "cell_type": "markdown",
      "source": [
        "**Answer** \n",
        "\n",
        "sub will replace the regex part of the returning string with the input string supplied.\n",
        "\n",
        "The output of the program will be X drummers, X pipers, five rings, X hen"
      ],
      "metadata": {
        "id": "RoaDwrcPATyD"
      }
    },
    {
      "cell_type": "code",
      "source": [
        "import re\n",
        "numReg = re.compile(r'\\d+')\n",
        "numReg.sub('X', '11 drummers, 10 pipers, five rings, 4 hen')"
      ],
      "metadata": {
        "colab": {
          "base_uri": "https://localhost:8080/",
          "height": 35
        },
        "id": "CGGQp6BNXxJl",
        "outputId": "b4688a65-bc18-4313-8630-b7bb75a5586b"
      },
      "execution_count": 14,
      "outputs": [
        {
          "output_type": "execute_result",
          "data": {
            "application/vnd.google.colaboratory.intrinsic+json": {
              "type": "string"
            },
            "text/plain": [
              "'X drummers, X pipers, five rings, X hen'"
            ]
          },
          "metadata": {},
          "execution_count": 14
        }
      ]
    },
    {
      "cell_type": "markdown",
      "source": [
        "Question 19.What does passing re.VERBOSE as the 2nd argument to re.compile() allow to do?"
      ],
      "metadata": {
        "id": "ybkQv3gKAUJj"
      }
    },
    {
      "cell_type": "markdown",
      "source": [
        "**Answer**\n",
        "\n",
        "re.VERBOSE allow to write regular expressions in more readable format. whitespace within the pattern is ignored.\n",
        "For example as below"
      ],
      "metadata": {
        "id": "qiJTzz5AAXsY"
      }
    },
    {
      "cell_type": "code",
      "source": [
        "import re\n",
        "a = re.compile(r\"\"\"\\d +  # the integral part\n",
        "                   \\.    # the decimal point\n",
        "                   \\d *  # some fractional digits\"\"\", re.VERBOSE)"
      ],
      "metadata": {
        "id": "bR10Jkl1XUm5"
      },
      "execution_count": 13,
      "outputs": []
    },
    {
      "cell_type": "markdown",
      "source": [
        "Question 20.How would you write a regex that match a number with comma for every three digits? It must\n",
        "match the given following:\n",
        "\n",
        "&#39;42&#39;\n",
        "\n",
        "&#39;1,234&#39;\n",
        "\n",
        "&#39;6,368,745&#39;\n",
        "\n",
        "but not the following:\n",
        "\n",
        "&#39;12,34,567&#39; (which has only two digits between the commas)\n",
        "\n",
        "&#39;1234&#39; (which lacks commas)"
      ],
      "metadata": {
        "id": "6pZY0G6fAX6r"
      }
    },
    {
      "cell_type": "markdown",
      "source": [
        "**Answer**\n",
        "\n"
      ],
      "metadata": {
        "id": "92MX7HxdAfDJ"
      }
    },
    {
      "cell_type": "code",
      "source": [
        "k = re.compile(r'^\\d{1,3}(,\\d{3})*$')\n",
        "s = ['42','1,234','6,368,745','12,34,567','1234']\n",
        "for i in s:\n",
        "  if k.search(i):\n",
        "    print(\"Matching: \"+k.search(i).group())\n",
        "  else:\n",
        "    print(\"Not matching: \"+i)"
      ],
      "metadata": {
        "colab": {
          "base_uri": "https://localhost:8080/"
        },
        "id": "fGY-Vno2ZAyL",
        "outputId": "1a4b31ac-90f1-40d7-bb0f-fe8315015858"
      },
      "execution_count": 20,
      "outputs": [
        {
          "output_type": "stream",
          "name": "stdout",
          "text": [
            "Matching: 42\n",
            "Matching: 1,234\n",
            "Matching: 6,368,745\n",
            "Not matching: 12,34,567\n",
            "Not matching: 1234\n"
          ]
        }
      ]
    },
    {
      "cell_type": "markdown",
      "source": [
        "Question 21.How would you write a regex that matches the full name of someone whose last name is\n",
        "Watanabe? You can assume that the first name that comes before it will always be one word that\n",
        "begins with a capital letter. The regex must match the following:\n",
        "\n",
        "&#39;Haruto Watanabe&#39;\n",
        "\n",
        "&#39;Alice Watanabe&#39;\n",
        "\n",
        "&#39;RoboCop Watanabe&#39;\n",
        "\n",
        "but not the following:\n",
        "\n",
        "&#39;haruto Watanabe&#39; (where the first name is not capitalized)\n",
        "\n",
        "&#39;Mr. Watanabe&#39; (where the preceding word has a nonletter character)\n",
        "\n",
        "&#39;Watanabe&#39; (which has no first name)\n",
        "\n",
        "&#39;Haruto watanabe&#39; (where Watanabe is not capitalized)"
      ],
      "metadata": {
        "id": "eS_HBCSJAvrm"
      }
    },
    {
      "cell_type": "code",
      "source": [
        "import re\n",
        "reg3 = re.compile(r'[A-Z][a-z]*\\sWatanabe$')\n",
        "s = [\n",
        "     'Haruto Watanabe'\n",
        ",'Alice Watanabe'\n",
        ",'RoboCop Watanabe'\n",
        ",'haruto Watanabe'\n",
        ",'Mr. Watanabe'\n",
        ",'Watanabe'\n",
        ",'Haruto watanabe'\n",
        "]\n",
        "for i in s:\n",
        "  if reg3.search(i):\n",
        "    print(\"Matching: \"+reg3.search(i).group())\n",
        "  else:\n",
        "    print(\"Not matching: \"+i)"
      ],
      "metadata": {
        "colab": {
          "base_uri": "https://localhost:8080/"
        },
        "id": "kS1tQ7Eolzgy",
        "outputId": "9b39c52d-35c5-47dd-d5b5-67918edd962a"
      },
      "execution_count": 34,
      "outputs": [
        {
          "output_type": "stream",
          "name": "stdout",
          "text": [
            "Matching: Haruto Watanabe\n",
            "Matching: Alice Watanabe\n",
            "Matching: Cop Watanabe\n",
            "Not matching: haruto Watanabe\n",
            "Not matching: Mr. Watanabe\n",
            "Not matching: Watanabe\n",
            "Not matching: Haruto watanabe\n"
          ]
        }
      ]
    },
    {
      "cell_type": "markdown",
      "source": [
        ""
      ],
      "metadata": {
        "id": "Zep2ekayA39F"
      }
    },
    {
      "cell_type": "markdown",
      "source": [
        "Question 22.How would you write a regex that matches a sentence where the first word is either Alice, Bob,\n",
        "or Carol; the second word is either eats, pets, or throws; the third word is apples, cats, or baseballs;\n",
        "and the sentence ends with a period? This regex should be case-insensitive. It must match the\n",
        "following:\n",
        "\n",
        "&#39;Alice eats apples.&#39;\n",
        "\n",
        "&#39;Bob pets cats.&#39;\n",
        "\n",
        "&#39;Carol throws baseballs.&#39;\n",
        "\n",
        "&#39;Alice throws Apples.&#39;\n",
        "\n",
        "&#39;BOB EATS CATS.&#39;\n",
        "\n",
        "but not the following:\n",
        "\n",
        "&#39;RoboCop eats apples.&#39;\n",
        "\n",
        "&#39;ALICE THROWS FOOTBALLS.&#39;\n",
        "\n",
        "&#39;Carol eats 7 cats.&#39;"
      ],
      "metadata": {
        "id": "x1z6C-2CA4sz"
      }
    },
    {
      "cell_type": "code",
      "source": [
        "reg1 = re.compile(r'(Alice|Bob|Carol)\\s(eats|pets|throws)\\s(apples|cats|baseballs)\\.', re.IGNORECASE)\n",
        "s = ['Alice eats apples.'\n",
        ",'Bob pets cats.'\n",
        ",'Carol throws baseballs.'\n",
        ",'Alice throws Apples.'\n",
        ",'BOB EATS CATS.'\n",
        ",'RoboCop eats apples.'\n",
        ",'ALICE THROWS FOOTBALLS.'\n",
        ",'Carol eats 7 cats.']\n",
        "for i in s:\n",
        "  if reg1.search(i):\n",
        "    print(\"Matching: \"+reg1.search(i).group())\n",
        "  else:\n",
        "    print(\"Not matching: \"+i)"
      ],
      "metadata": {
        "colab": {
          "base_uri": "https://localhost:8080/"
        },
        "id": "A15O7bZHnU3U",
        "outputId": "fdff06d5-ff18-4519-f567-7d668ba48456"
      },
      "execution_count": 31,
      "outputs": [
        {
          "output_type": "stream",
          "name": "stdout",
          "text": [
            "Matching: Alice eats apples.\n",
            "Matching: Bob pets cats.\n",
            "Matching: Carol throws baseballs.\n",
            "Matching: Alice throws Apples.\n",
            "Matching: BOB EATS CATS.\n",
            "Not matching: RoboCop eats apples.\n",
            "Not matching: ALICE THROWS FOOTBALLS.\n",
            "Not matching: Carol eats 7 cats.\n"
          ]
        }
      ]
    }
  ]
}