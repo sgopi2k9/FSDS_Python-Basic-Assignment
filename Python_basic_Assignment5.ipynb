{
  "nbformat": 4,
  "nbformat_minor": 0,
  "metadata": {
    "colab": {
      "name": "Python_basic_Assignment5.ipynb",
      "provenance": [],
      "collapsed_sections": []
    },
    "kernelspec": {
      "name": "python3",
      "display_name": "Python 3"
    },
    "language_info": {
      "name": "python"
    }
  },
  "cells": [
    {
      "cell_type": "markdown",
      "source": [
        "Question 1.What does an empty dictionary&#39;s code look like?"
      ],
      "metadata": {
        "id": "Z6QXGsIR1qga"
      }
    },
    {
      "cell_type": "markdown",
      "source": [
        "**Answer** following creates new empty dictionary \n",
        "a = {} \n",
        "b = new dict()"
      ],
      "metadata": {
        "id": "M1iHuZzB1sdB"
      }
    },
    {
      "cell_type": "markdown",
      "source": [
        "Question 2.What is the value of a dictionary value with the key &#39;foo&#39; and the value 42?"
      ],
      "metadata": {
        "id": "7_4HQVbw2Mqq"
      }
    },
    {
      "cell_type": "markdown",
      "source": [
        "**Answer** 42"
      ],
      "metadata": {
        "id": "PJgh6NyA2RWk"
      }
    },
    {
      "cell_type": "markdown",
      "source": [
        "Question 3.What is the most significant distinction between a dictionary and a list?"
      ],
      "metadata": {
        "id": "1yjjTQTy2VFA"
      }
    },
    {
      "cell_type": "markdown",
      "source": [
        "**Answer** Items in dictionary are accessed using keys whereas items in list are acccessed using index.\n",
        "In dictionary items are stored as key value pairs and keys must be unique. In list items are stored as individual values and can be accessed using index"
      ],
      "metadata": {
        "id": "OopSreqg2Y8o"
      }
    },
    {
      "cell_type": "markdown",
      "source": [
        "Question 4.What happens if you try to access spam[&#39;foo&#39;] if spam is {&#39;bar&#39;: 100}?"
      ],
      "metadata": {
        "id": "C5bQ9vKM2z2Q"
      }
    },
    {
      "cell_type": "markdown",
      "source": [
        "**Answer** keyerror foo since foo key is not present in dictionary"
      ],
      "metadata": {
        "id": "cUbSm0ro25cj"
      }
    },
    {
      "cell_type": "markdown",
      "source": [
        "Question 5.If a dictionary is stored in spam, what is the difference between the expressions &#39;cat&#39; in spam and\n",
        "&#39;cat&#39; in spam.keys()?"
      ],
      "metadata": {
        "id": "zhuhIjJM3PLk"
      }
    },
    {
      "cell_type": "markdown",
      "source": [
        "**Answer** There is no difference as both looks for key 'cat' in dictionary\n",
        "'cat' in spam returns True\n",
        "'cat' in spam.keys() returns True"
      ],
      "metadata": {
        "id": "UlL45PLs3Uop"
      }
    },
    {
      "cell_type": "markdown",
      "source": [
        "Question 6.If a dictionary is stored in spam, what is the difference between the expressions &#39;cat&#39; in spam and\n",
        "&#39;cat&#39; in spam.values()?"
      ],
      "metadata": {
        "id": "fz3Ixmk13-vH"
      }
    },
    {
      "cell_type": "markdown",
      "source": [
        "***Answer** 'cat' in spam looks for key in dictionary spam\n",
        "'cat' in spam.values() looks for value 'cat' in dictionary"
      ],
      "metadata": {
        "id": "23stJ2SY4C7x"
      }
    },
    {
      "cell_type": "markdown",
      "source": [
        "Question 7.What is a shortcut for the following code?\n",
        "if &#39;color&#39; not in spam:\n",
        "spam[&#39;color&#39;] = &#39;black&#39;"
      ],
      "metadata": {
        "id": "PDrw9h794WLu"
      }
    },
    {
      "cell_type": "markdown",
      "source": [
        "**Answer** spam = {'color':'black' for (k,v) in spam.items() if 'color' not in spam.keys()}"
      ],
      "metadata": {
        "id": "vQRy-p784X3l"
      }
    },
    {
      "cell_type": "markdown",
      "source": [
        "Question 8.How do you &quot;pretty print&quot; dictionary values using which module and function?"
      ],
      "metadata": {
        "id": "XzPnYXUP8lXN"
      }
    },
    {
      "cell_type": "markdown",
      "source": [
        "**Answer** we can pretty print using ppprint module. we need to import pprint first and then we need to call pprint.pprint(dictionary) to pretty print values"
      ],
      "metadata": {
        "id": "w7nhqdM_8suq"
      }
    }
  ]
}