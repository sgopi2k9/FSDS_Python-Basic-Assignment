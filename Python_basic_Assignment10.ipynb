{
  "nbformat": 4,
  "nbformat_minor": 0,
  "metadata": {
    "colab": {
      "name": "Python_basic_Assignment10.ipynb",
      "provenance": [],
      "collapsed_sections": []
    },
    "kernelspec": {
      "name": "python3",
      "display_name": "Python 3"
    },
    "language_info": {
      "name": "python"
    }
  },
  "cells": [
    {
      "cell_type": "markdown",
      "source": [
        "Question 1.How do you distinguish between shutil.copy() and shutil.copytree()?"
      ],
      "metadata": {
        "id": "ZdSIIxt73Lli"
      }
    },
    {
      "cell_type": "markdown",
      "source": [
        "**Answer**\n",
        "\n",
        "shutil.copy() - copies single file from source directory to desitnation directory\n",
        "\n",
        "shutil.copytree() - copies recursively all the directories and files from source directory to destination directory"
      ],
      "metadata": {
        "id": "-8GRYgMb3OKr"
      }
    },
    {
      "cell_type": "markdown",
      "source": [
        "Question 2.What function is used to rename files??"
      ],
      "metadata": {
        "id": "mPU_EClg3uxl"
      }
    },
    {
      "cell_type": "markdown",
      "source": [
        "**Answer**\n",
        "\n",
        "os.rename(sourcepath, destinationpath) is used to rename files in python"
      ],
      "metadata": {
        "id": "77Sn7l2D3xxx"
      }
    },
    {
      "cell_type": "markdown",
      "source": [
        "Question 3.What is the difference between the delete functions in the send2trash and shutil modules?"
      ],
      "metadata": {
        "id": "aVeqz5tg3-Ai"
      }
    },
    {
      "cell_type": "markdown",
      "source": [
        "**Answer**\n",
        "\n",
        "send2trash - This method deletes file or folder safely bu sending them to recycle bin\n",
        "\n",
        "shutil - This module has rmtree() method which permanently deletes a folder"
      ],
      "metadata": {
        "id": "o14hTdMB4Dp-"
      }
    },
    {
      "cell_type": "markdown",
      "source": [
        "Question 4.4.ZipFile objects have a close() method just like File objects’ close() method. What ZipFile method is\n",
        "equivalent to File objects’ open() method?"
      ],
      "metadata": {
        "id": "ZR31felL6cmo"
      }
    },
    {
      "cell_type": "markdown",
      "source": [
        "**Answer**\n",
        "\n",
        "extractall() is equivalent to open() method in zipfile"
      ],
      "metadata": {
        "id": "C9q6FlBn6eim"
      }
    },
    {
      "cell_type": "markdown",
      "source": [
        "Question 5.Create a programme that searches a folder tree for files with a certain file extension (such as .pdf\n",
        "or .jpg). Copy these files from whatever location they are in to a new folder."
      ],
      "metadata": {
        "id": "AFkTa0vkD_I0"
      }
    },
    {
      "cell_type": "code",
      "source": [
        "import os\n",
        "import shutil\n",
        "sourcelocation = \"C:\\\\Documents\"\n",
        "destlocation = \"C:\\\\Documents\\\\New Folder\"\n",
        "for f in os.listdir(sourcelocation):\n",
        "  if f.endswith(\"*.jpg\"):\n",
        "    shutil.copyfile(os.path.join(sourcelocation,f),destlocation)"
      ],
      "metadata": {
        "id": "eF-oBTCIEB_G"
      },
      "execution_count": null,
      "outputs": []
    }
  ]
}