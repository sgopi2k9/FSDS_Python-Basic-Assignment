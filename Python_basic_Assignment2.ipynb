{
  "nbformat": 4,
  "nbformat_minor": 0,
  "metadata": {
    "colab": {
      "name": "Python_basic_Assignment2.ipynb",
      "provenance": [],
      "collapsed_sections": []
    },
    "kernelspec": {
      "name": "python3",
      "display_name": "Python 3"
    },
    "language_info": {
      "name": "python"
    }
  },
  "cells": [
    {
      "cell_type": "markdown",
      "metadata": {
        "id": "HQRLRyLClkBQ"
      },
      "source": [
        "Question\n",
        "1.What are the two values of the Boolean data type? How do you write them?\n"
      ]
    },
    {
      "cell_type": "markdown",
      "metadata": {
        "id": "5zGpnhB0lyA5"
      },
      "source": [
        "Answer\n",
        "True , False are the two values of boolean data type\n",
        "bool_val = True\n",
        "bool_val1 = False"
      ]
    },
    {
      "cell_type": "markdown",
      "metadata": {
        "id": "Dcqm1osgl86s"
      },
      "source": [
        "Question 2.What are three different type of boolean operators?"
      ]
    },
    {
      "cell_type": "markdown",
      "metadata": {
        "id": "0vg33mjFmfSo"
      },
      "source": [
        "Ansswer - and , or ,not are three boolean operators"
      ]
    },
    {
      "cell_type": "markdown",
      "metadata": {
        "id": "Z89PorX_msJx"
      },
      "source": [
        "Question 3.Make a list of each Boolean operator&#39;s truth tables (i.e. every possible combination of Boolean\n",
        "values for the operator and what it evaluate )."
      ]
    },
    {
      "cell_type": "markdown",
      "metadata": {
        "id": "487YFLfNm8fL"
      },
      "source": [
        "![image.png](data:image/png;base64,iVBORw0KGgoAAAANSUhEUgAAApkAAAB4CAYAAAC5KOlcAAAPWklEQVR4nO3dP2/j2p3G8Ye5nvexhWjsCmpSbENicVPcRhxgMcViWndUt1KKaTYGNsUkzUUAsrgXELtpDSzgFKaaIEUAs1ggnaAAQzb7Nmbm4mwhSqJkyrYkSoeWvx+AgG2Rogw/PvydP5QcY4wRAAAA0KBf2X4BAAAAOD8XkvSXv/xl5wN/+OGHxl8MAAAAzsPF4ovvv//+2Qf99NNPFJkAAADYajld/u3bN3379k2//PLLcvu3//zfte8XGwAAAPCYB0Xm169f9e3bN/3mt3+XJP3mt39fPrbYAAAAgMc8KDIXhebkj11J0uSPXX39+nVtAwAAAB6zLDK/fPmiL1++qP9fs7VicvH15s8BAACAbZY3/nz9+lX/8Yf/kyT9+3/nyx02v/6f63863asDAADAi7QcyXzz5o3+/PuOJOnPv+9s/fri4qLmaQAAAICVZcX45s0bSVL6h39Z2+HNmzcyxuju4z+f9pUBAADgxVobyaxuwe/+IUkKfvePB48BAAAAj1kWmd99993a9tc//VqS9Nc//VoXFxdrGwAAAPCYZcVYVzz+Lf7XBz8zxhz3FQEAAODFW1aWP//8s83XAQAAgDPimD2HJh3Hafq1AAAAoKV2LRkPWmB5TlPni6L5nH6nc+U4Dn8nWEP+YBP5gy37DC7+6uldAAAAgN1QZAIAAKBxLS4yC8W+o8HE9uvA60T+0C5F7MvxYxX2XgH/EzgSsnWujlZkTgaOnLrEFLF8x1dsraWcaOA4cqy+Bhxba/M3GchxnOXmE8KzNhnM/87nePEsYr/+fwztUMTyK23NS8oh2TofRysy++9CKbnVZkyKuxtl3nu97RzrzNsVsS/HudW7PJJ3+tPjhNqYP2miQSClxsgYI5OGykZXdHbO1kS3iacw9JTccsHECU0GctyRemnZ1hgjk0eaBnRscVrHmy7vv1OoROtta6G7m0zh9VDLa/xGb6u+8zIffaw+9nDqaDFCWW41T9QZ3suYsfqH/3ZouxbmT+prXM1f/51CZZrl+/+aaLHJrRLvvT58eC/vQYenUOz7iotqbgbr+6xlc6C72pOUzzNZ7Lt4jsfzOO9wb573OTlfnNORO8qkJGBEvnUmGgSJvCjXuHqx6wx1n4bKRj+Wf+9t2VkgWzjcEddk9vUh8pR8rISouNNNFurdMvgTDdyZrisjO0mwGfTnKBT7gaZRXvbaUoVJ8GKmBnAMLyB/xWdN5anr7nxCvACT20Te+7fqdN7qvZfo44OLZaaRe6t3xsiYXJGXKFiGplB8NZIWmcq7uhllW86UaRQscjxW/6k8FrGuRr3ViPrOHe+OhvdGeeRJYSpjjO6HVqYGUKdsV97XTde4XXma6vMyipvZ2US2cJij3vjTefteXnajuzLQxd2NsvBdJXQbIzsP/gGeqSwerpdhLAsMpqhetbbnb/LjSFl4LdrQM1TE+pgsLvQdvX3vKbu5e3DTTpgu8jffR9PP8302M9UZ6lO0fZHP6nlqjq3N4+YoP85LT5d17UrnUr2NH61lpwbZwiGOe3d5563ee5lu7gotpyrfbcS5eiOEO9K2vvqj8pkyJQoqQ/ju1l4/Xo0W56+IfQXTSPmYxRvnaHPt72aHp07nsnL5z2f7ZXF57CN57Ax1X67PYzryXG3pLBefNT3kackWdnTktzCq9OAnP2q0NlWp+ZqjYKooXy1M3uuGHLcrT2FliL7cuIC/cu3MXxH7ckc9pfeVtaE4I/MOjbKR3LUOzKLD8wxud/+bE5+Tx85Q92XmNXJZWnROOpfqbVnrffCNj2QLOzr6+2R2htcKsxtdfUzkRR/Wh+XzmbLKsH5xd7Ol9+6q62k1JF/EulrrPV2qp7o1T3jt2pa/ycCRe/NeOTegna/Jjxpl3qrzUm555FVuunjCZqY2M7fLsU/uu1gX/ETO6yym99Ei5RR2sPFWbeXfc+3Gx12RLezK7GmXQ9NQRvJMlG97rNzC0ITL/XITeTJhWu6YR8Zb7KfQpGlo5EVm9ZSpCVV5Lsl4mydMw7XH59v8fIvv0X67/p1ak7+156hsa8+Dtnsqf2koo2Vw1h4xoRaZ2sjX/MD1LFTz4kUmf5C5Lc9TOVdtHjfawbWcPprzzXOtzvEg6ziaZ7d/D653m23gtuw89TjZeq32qZGc8sCdOY6jPQ9tpcUHv5/T73Suzi17eFnIH2wif7Bln+y1+GMlAQAA8FJRZAIAAKBxFJkAAABo3IXtF9AWrHEBAABozkE3/gAAAOB12LVkPGgkk9E/2MDdlbCJ/MEm8gdb9hlcZE0mAAAAGkeRCQAAgMZRZAIAAKBxRyoyC8W+I8ep2zY+TxVoHPmDLWQPNpE/tMsJPlZyooETSKnRuL/PmYB1uy18J39oFm0fbCJ/sOUFfaxkodj3FU9i+Y4jxxloookGjqPBpLJX7MvxY606X/N9lj2z6s7As5E/2EL2YBP5w2lZXJOZaRTMdG2MjBnr6Y5WodgPNI1yGWNkTKowCUTWsR/yB1vIHmwifzgdqzf+hOlzAl4q7nSThboedsof9PUh8pTcknTsh/zBFrIHm8gfTuXlfKxkPlOmRIGTrP88tPNy8MqQP9hC9mAT+cMBXs5bGLldeQqVGlMO2ZcbK5pxCuQPtpA92ET+cIAWFZmuup5WQ/BFrKtRtnq4c6meEn3kPRhwFOQPtpA92ET+cDwtKjI7Gn6K5CXB/O41d6brtDoe39fYpOqN3LX3/vIJPhpB/mAL2YNN5A/Hc4L3yQSaRfZgE/mDTeQPtryg98kEAADAOaPIBAAAQOMoMgEAANC4g9ZkAgAA4HXYtWQ86M3YWXwMG1j4DpvIH2wif7Bln8FFpssBAADQOIpMAAAANI4iE1hTKPYdDSa2XwdeH7IH4LwcqcicN5bVTwdYbb74oAAcX30GuYDj+MgebOHai3Y5UpHZ0fDeyBgjY1KFksJ08f29hp3jnBXY5EV5mbv5Nu7bfkV4LcgeTo9rL9rF0nR5odj3FU9i+Y4jxxloookGG739Ivbl+LFWna/5PsueGUMD2FexyN7jo0xF7FdGAgZa7UYWsSeyB2u49uK0LK7JzDQKZro2RsaM9XQnv1DsB5ouRwdShUnAFBT2MNHAXWTPyKShkqB6ES8Vsa5GPaXL0ahFTski9kX2YBvXXpyO1Rt/wvQ5AS8Vd7rJQl0vx/v7+hB5Sm5JOrbLRm7NaFBf42rj6nblaarPteuVEj2IGFnEM5A9tBXXXpzKy7m7PJ8pU6KgMmTvjjLbrwott74urtKwTgarAsAdqTZJnaHu80jTYL6fv1g1TxbxDGQPZ4HM4QAvp8h0u/IUVqaPyo3V9NhVEcsPporyMkN5JG/bvp2h7st9NHLnU0RkEfsie3hpyBwO0KIi01XX02oIvoh1Ve0tdS7VU6KPvAcDDpXPlKmny3L2p7i7qR9NqupcqidPXVdkEfsje2gdrr04nhYVmR0NP0XykqCcRprpOg0rj/c1Nql6a+ucKtNIwHP1x0rD1fSPO+sprNuvOq3pBJpGn8q3ACGL2BPZQ+tw7cXxOMYYs9eBjqM9DwUOQvZgE/mDTeQPtuyTvRaNZAIAAOBcUGQCAACgcRSZAAAAaBxFJgAAABp30I0/AAAAeB12LRkvTnkyoAncXQmbyB9sIn+wZZ/BRabLAQAA0DiKTAAAADSuhUVmodh35p/TCwCvBm0fgPNyxCJz3mBWP4bKcWhAcQr12Ztvvvg0NBwXbR9soe1Duxx9JNOLchljltu4f+wzAh0N7xeZSxVKCtPF9/flZ0ADx0Xbh9Oj7UO72JsuL2L5z+jlF7Ff6YkNtNptokG1l8YwAZ6tUOz7iieLDA40KfNUjVER+3L8WKvOP5lDA2j7YA1tH07LUpE50cCd6XrRy09DJUG1ES0Vsa5GPaXL0YCx5oMBhWI/0HQ5UpAqTAKmo7CDTKNgkcFFrh5D5tAE2j7YRtuH0zl6kZmN3JreeF/jarjdrjxN9bl2vUii280wF3e6yUJdL8f++/oQeUoe7AhsF6bPaWBLZA47ou1DW9H24VROvCazEuzJYNUAuyNldQd3hrrPI02D+X7+YtVyPlOmREFl+N4d1T4D0Awyhx3R9uEskDkcwM50eRHLD6aK8rIBziN52/btDHVf7qOROx+id7vyFFamksqNlfU4FjKHJtD24aUhcziAnSIznylTT5fl6Htxd1Pfm6/qXKonT1138XWij7wfAxrjqutpNQVUxLqq9tbJHJpA24fWoe3D8dgpMvtjpeFq+N2d9RTW7VedVnICTaNP5Vsw9DU2qXpra54qU0rAzjoaforkJUE5jTnTdVpNJZlDA2j70Dq0fTgexxhj9jrQcbTnocBByB5sIn+wifzBln2y18KPlQQAAMBLR5EJAACAxlFkAgAAoHEHrckEAADA67BryXhxypMBTWDhO2wif7CJ/MGWfQYXmS4HAABA4ygyAQAA0LgWFpmFYt+Zf4QacHLkD7aQPdhE/tC8IxaZ88BWPyHAcQgwToX8wRayB5vIH9rj6COZXpTLGLPcxv1jnxFYIX+whezBJvKHNrA3XV7E8p/Ryypiv9IbG2i120SDak+Nbhp2Qf5gC9mDTeQPJ2SpyJxo4M50vehlpaGSoBriUhHratRTuuyNjTXvjBWK/UDTZU8tVZgETAfgmcgfbCF7sIn84bSOXmRmI7emN9TXeBlaSW5Xnqb6XNQ9Q6LbzQAXd7rJQl0PO+UP+voQeUoe7IjXjvzBFrIHm8gf2uDEazIr4Z4MVv8A7khZ3cGdoe7zSNNgvp8fl/8J+UyZEgWVIXt3VPsMeOXIH2whe7CJ/KEN7EyXF7H8YKooL/8B8kjetn07Q92X+2jkzofl3a48hZWh/HJjZTOeg/zBFrIHm8gfTsxOkZnPlKmny3LEvbi7qe9NVXUu1ZOnrrv4OtHHuHaMH3gc+YMtZA82kT+cmJ0isz9WGq6G3N1ZT2HdftVhfSfQNPqk+VKQvsYmVW9tzUllSB94DPmDLWQPNpE/nJhjjDF7Heg42vNQ4CBkDzaRP9hE/mDLPtlr4cdKAgAA4KWjyAQAAEDjKDIBAADQOIpMAAAANO6gG38AAADwOuxaMu5dZAIAAOB1iKKo9uej0WjrMRfHejEAAAA4H5sF5bbCc4E1mQAAAGgcRSYAAAAaR5EJAACAxrEmEwAAAE96ag3mJu4uBwAAQOOYLgcAAEDjKDIBAADQOIpMAAAANI4iEwAAAI37fx5Xynnx+yDlAAAAAElFTkSuQmCC)\n",
        "\n",
        "\n",
        "![image.png](data:image/png;base64,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)"
      ]
    },
    {
      "cell_type": "markdown",
      "metadata": {
        "id": "TU2Xc1pyo8sR"
      },
      "source": [
        "Question 4 What are the values of the following expressions?\n",
        "(5 &gt; 4) and (3 == 5) \n",
        "not (5 &gt; 4)\n",
        "(5 &gt; 4) or (3 == 5)\n",
        "not ((5 &gt; 4) or (3 == 5))\n",
        "(True and True) and (True == False)\n",
        "(not False) or (not True)"
      ]
    },
    {
      "cell_type": "markdown",
      "metadata": {
        "id": "h6-pOyccpdn0"
      },
      "source": [
        "Answer\n",
        "\n",
        "*   (5 > 4) and (3 == 5) - False\n",
        "*   not (5 &gt; 4) - False\n",
        "*   (5 &gt; 4) or (3 == 5) - True\n",
        "*   not ((5 &gt; 4) or (3 == 5)) - False\n",
        "*   (True and True) and (True == False) - False\n",
        "*   (not False) or (not True) - True\n",
        "\n",
        "\n",
        "\n",
        "\n",
        "\n"
      ]
    },
    {
      "cell_type": "markdown",
      "metadata": {
        "id": "C_NaGQj-qn73"
      },
      "source": [
        "Question 5.What are the six comparison operators?"
      ]
    },
    {
      "cell_type": "markdown",
      "metadata": {
        "id": "tRjDcLBtq4Pm"
      },
      "source": [
        "Answer\n",
        "\n",
        "*   < Less than\n",
        "*   &gt; Greater than\n",
        "*   <= Less than or equal to\n",
        "*   &gt;= Greater than or equal to\n",
        "*   == Equal to\n",
        "*   != Not equal to\n",
        "\n",
        "\n",
        "\n",
        "\n",
        "\n"
      ]
    },
    {
      "cell_type": "markdown",
      "metadata": {
        "id": "fAtgs5rIrXbP"
      },
      "source": [
        "Question 6.How do you tell the difference between the equal to and assignment operators?Describe a\n",
        "condition and when you would use one."
      ]
    },
    {
      "cell_type": "markdown",
      "metadata": {
        "id": "sHZS8K3msGTx"
      },
      "source": [
        "Answer\n",
        "= Assignment operator is used to assign value to a variable\n",
        "== Equal to operator is used to check the equality of the exxpression on the right hand and left hand side of the operator\n",
        "Example\n",
        "Assignment val = 5\n",
        "If , while condition can be used to evaluate equal to operator\n",
        "Example\n",
        "if(val==5)"
      ]
    },
    {
      "cell_type": "markdown",
      "metadata": {
        "id": "V7KMOzQ-srcR"
      },
      "source": [
        "Question\n",
        "7. Identify the three blocks in this code:\n",
        "spam = 0\n",
        "if spam == 10:\n",
        "print(&#39;eggs&#39;)\n",
        "if spam &gt; 5:\n",
        "print(&#39;bacon&#39;)\n",
        "else:\n",
        "print(&#39;ham&#39;)\n",
        "print(&#39;spam&#39;)\n",
        "print(&#39;spam&#39;)"
      ]
    },
    {
      "cell_type": "markdown",
      "metadata": {
        "id": "z6Teu7uys5fs"
      },
      "source": [
        "![image.png](data:image/png;base64,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)"
      ]
    },
    {
      "cell_type": "markdown",
      "metadata": {
        "id": "pFy1vkBftSH2"
      },
      "source": [
        "Question\n",
        "8.Write code that prints Hello if 1 is stored in spam, prints Howdy if 2 is stored in spam, and prints\n",
        "Greetings! if anything else is stored in spam."
      ]
    },
    {
      "cell_type": "code",
      "metadata": {
        "colab": {
          "base_uri": "https://localhost:8080/"
        },
        "id": "SzbrFEsCtZ7M",
        "outputId": "2d0957d4-3782-45b0-90b7-e3c6130bcc43"
      },
      "source": [
        "spam = 2\n",
        "if(spam==1):\n",
        "  print(\"Hello\")\n",
        "elif(spam==2):\n",
        "  print(\"Howdy\")\n",
        "else:\n",
        "  print(\"Greetings!\")"
      ],
      "execution_count": 5,
      "outputs": [
        {
          "output_type": "stream",
          "name": "stdout",
          "text": [
            "Howdy\n"
          ]
        }
      ]
    },
    {
      "cell_type": "markdown",
      "metadata": {
        "id": "wSgkuvYrtzeT"
      },
      "source": [
        "Question 9.If your programme is stuck in an endless loop, what keys you’ll press?"
      ]
    },
    {
      "cell_type": "markdown",
      "metadata": {
        "id": "tBz4kpyQ0xHU"
      },
      "source": [
        "Answer\n",
        "Ctrl+C or Ctrl+Z"
      ]
    },
    {
      "cell_type": "markdown",
      "metadata": {
        "id": "gkAWxdWb06m-"
      },
      "source": [
        "Question 10.How can you tell the difference between break and continue?"
      ]
    },
    {
      "cell_type": "markdown",
      "metadata": {
        "id": "G_vs8HY-1AUm"
      },
      "source": [
        "Answer\n",
        "Break will exit from the current loop\n",
        "Continue will proceed to next iteration in the loop"
      ]
    },
    {
      "cell_type": "markdown",
      "metadata": {
        "id": "9RgOAbMg1HCl"
      },
      "source": [
        "11. In a for loop, what is the difference between range(10), range(0, 10), and range(0, 10, 1)?"
      ]
    },
    {
      "cell_type": "markdown",
      "metadata": {
        "id": "ZUs75eLf1Lyx"
      },
      "source": [
        "Answer - All yields the same result in for loop\n",
        "range(10) - This function does not have start value and step only end value is specifiec so python by  takes default start value of 0 and increment step as 1.\n",
        "range(0,10) - This function does not have step value so python by default takes increment step value of 1\n",
        "range(0,10,1) - This function has start value, end value and increment step specified."
      ]
    },
    {
      "cell_type": "markdown",
      "metadata": {
        "id": "7ijL9YzP1549"
      },
      "source": [
        "Question\n",
        "12.Write a short program that prints the numbers 1 to 10 using a for loop. Then write an equivalent\n",
        "program that prints the numbers 1 to 10 using a while loop."
      ]
    },
    {
      "cell_type": "code",
      "metadata": {
        "colab": {
          "base_uri": "https://localhost:8080/"
        },
        "id": "wDdWuhwq2PVS",
        "outputId": "29f31b34-de56-4e68-d3c2-8422f588c3c0"
      },
      "source": [
        "for i in range(1,11):\n",
        "  print(i)"
      ],
      "execution_count": 7,
      "outputs": [
        {
          "output_type": "stream",
          "name": "stdout",
          "text": [
            "1\n",
            "2\n",
            "3\n",
            "4\n",
            "5\n",
            "6\n",
            "7\n",
            "8\n",
            "9\n",
            "10\n"
          ]
        }
      ]
    },
    {
      "cell_type": "code",
      "metadata": {
        "colab": {
          "base_uri": "https://localhost:8080/"
        },
        "id": "tqLVmldK2W1S",
        "outputId": "bfe9106d-9bc9-4054-dbcf-47219be24e61"
      },
      "source": [
        "j=1\n",
        "while(j<=10):\n",
        "  print(j)\n",
        "  j+=1"
      ],
      "execution_count": 8,
      "outputs": [
        {
          "output_type": "stream",
          "name": "stdout",
          "text": [
            "1\n",
            "2\n",
            "3\n",
            "4\n",
            "5\n",
            "6\n",
            "7\n",
            "8\n",
            "9\n",
            "10\n"
          ]
        }
      ]
    },
    {
      "cell_type": "markdown",
      "metadata": {
        "id": "k-00f9lE3O0N"
      },
      "source": [
        "Question \n",
        "13.If you had a function named bacon() inside a module named spam, how would you call it after\n",
        "importing spam?"
      ]
    },
    {
      "cell_type": "markdown",
      "metadata": {
        "id": "OnvEh-bJ3U8M"
      },
      "source": [
        "Answer - spam.bacon()"
      ]
    }
  ]
}